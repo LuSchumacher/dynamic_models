{
 "cells": [
  {
   "cell_type": "code",
   "execution_count": null,
   "metadata": {},
   "outputs": [],
   "source": [
    "import numpy as np\n",
    "import matplotlib.pyplot as plt\n",
    "import seaborn as sns\n",
    "import pandas as pd\n",
    "from numba import njit\n",
    "from tqdm.notebook import tqdm\n",
    "# import talib\n",
    "import pickle\n",
    "import pystan\n",
    "\n",
    "import os, sys\n",
    "\n",
    "sys.path.append(os.path.abspath(os.path.join('../src')))\n",
    "from generative_models import *\n",
    "from networks import *\n",
    "\n",
    "import tensorflow as tf\n",
    "from tensorflow.keras.layers import LSTM, Dense, GRU\n",
    "from tensorflow.keras.models import Sequential\n",
    "from tensorflow.keras.utils import to_categorical\n",
    "import tensorflow_probability as tfp\n",
    "tfd = tfp.distributions\n",
    "tfpl = tfp.layers\n",
    "\n",
    "sys.path.append(os.path.abspath(os.path.join('../../BayesFlow')))\n",
    "from bayesflow.diagnostics import *"
   ]
  },
  {
   "cell_type": "code",
   "execution_count": null,
   "metadata": {},
   "outputs": [],
   "source": [
    "%load_ext autoreload\n",
    "%autoreload 2\n",
    "np.set_printoptions(suppress=True)"
   ]
  },
  {
   "cell_type": "code",
   "execution_count": null,
   "metadata": {},
   "outputs": [],
   "source": [
    "# set font type\n",
    "import matplotlib\n",
    "matplotlib.rcParams['font.serif'] = \"Palatino\"\n",
    "matplotlib.rcParams['font.family'] = \"serif\""
   ]
  },
  {
   "cell_type": "code",
   "execution_count": null,
   "metadata": {},
   "outputs": [],
   "source": [
    "# gpu setting and checking\n",
    "# physical_devices = tf.config.list_physical_devices('GPU')\n",
    "# tf.config.experimental.set_memory_growth(physical_devices[0], enable=True)\n",
    "# print(tf.config.list_physical_devices('GPU'))"
   ]
  },
  {
   "cell_type": "markdown",
   "metadata": {},
   "source": [
    "## Stan"
   ]
  },
  {
   "cell_type": "code",
   "execution_count": null,
   "metadata": {},
   "outputs": [],
   "source": [
    "stan_model = \"\"\"\n",
    "data {\n",
    "  int<lower=0> N;                 \n",
    "  real<lower=0> rt[N];    \n",
    "  int<lower=0,upper=1> correct[N];\n",
    "  int<lower=1,upper=4> context[N];\n",
    "}\n",
    "\n",
    "parameters {\n",
    "  real<lower=0> v[4];\n",
    "  real<lower=0> a; \n",
    "  real<lower=0> ndt;\n",
    "}\n",
    "\n",
    "model {\n",
    "  // Priors\n",
    "  v ~ gamma(2.5, 1.5);\n",
    "  a ~ gamma(4.0, 3.0);\n",
    "  ndt ~ gamma(1.5, 5.0);\n",
    "  \n",
    "  for (n in 1:N) {\n",
    "     if (correct[n] == 1) {\n",
    "        rt[n] ~ wiener(a, ndt, 0.5, v[context[n]]);\n",
    "     } \n",
    "     else {\n",
    "        rt[n] ~ wiener(a, ndt, 1 - 0.5, -v[context[n]]);\n",
    "     }\n",
    "  }\n",
    "}\n",
    "\"\"\""
   ]
  },
  {
   "cell_type": "code",
   "execution_count": null,
   "metadata": {},
   "outputs": [],
   "source": [
    "def to_stan(sim_data):\n",
    "    \"\"\"\n",
    "    Convert data from simulator to stan-friendly format.\n",
    "    \"\"\"\n",
    "    rt = sim_data[:, 0]\n",
    "    context = sim_data[:, 1].astype(np.int32) + 1\n",
    "    correct = (rt >= 0).astype(np.int32)\n",
    "    rt = np.abs(rt).astype(np.float32)\n",
    "    return {'rt': rt, 'correct': correct, 'context': context, 'N': rt.shape[0]}\n",
    "\n",
    "def loop_stan(data, verbose=True):\n",
    "    \"\"\"\n",
    "    Loop through data and obtain posteriors.\n",
    "    \"\"\"\n",
    "    \n",
    "    stan_post_samples = []\n",
    "    for i in range(data.shape[0]):\n",
    "        data_i = to_stan(data[i])\n",
    "        ndt_init = data_i['rt'].min() * 0.75\n",
    "        init = {'ndt': ndt_init}\n",
    "        fit = sm.sampling(data=data_i, \n",
    "                          iter=2000, chains=4, n_jobs=4, init=[init, init, init, init],\n",
    "                          control=dict(adapt_delta=0.99, max_treedepth=15))\n",
    "        samples = fit.extract(permuted=True)\n",
    "        stan_post_samples.append(samples)\n",
    "        if verbose:\n",
    "            print(f'Finished estimating data set {i + 1}...')\n",
    "    return stan_post_samples"
   ]
  },
  {
   "cell_type": "markdown",
   "metadata": {},
   "source": [
    "# Simulation"
   ]
  },
  {
   "cell_type": "code",
   "execution_count": null,
   "metadata": {},
   "outputs": [],
   "source": [
    "N_OBS = 3200\n",
    "BATCH_SIZE = 100"
   ]
  },
  {
   "cell_type": "code",
   "execution_count": null,
   "metadata": {},
   "outputs": [],
   "source": [
    "# parallelization for stan\n",
    "import multiprocessing\n",
    "multiprocessing.set_start_method(\"fork\")"
   ]
  },
  {
   "cell_type": "code",
   "execution_count": null,
   "metadata": {},
   "outputs": [],
   "source": [
    "# compile stan model\n",
    "sm = pystan.StanModel(model_code=stan_model)"
   ]
  },
  {
   "cell_type": "markdown",
   "metadata": {},
   "source": [
    "## No variance (static)"
   ]
  },
  {
   "cell_type": "code",
   "execution_count": null,
   "metadata": {},
   "outputs": [],
   "source": [
    "prior_draws = dynamic_prior(BATCH_SIZE)\n",
    "context = context_gen(BATCH_SIZE, N_OBS)\n",
    "sim_data, theta_d = static_batch_simulator(prior_draws, context)\n",
    "sim_data.shape"
   ]
  },
  {
   "cell_type": "code",
   "execution_count": null,
   "metadata": {},
   "outputs": [],
   "source": [
    "# sanity check\n",
    "which_param = 0\n",
    "plt.plot(np.arange(N_OBS), theta_d[0, :, which_param])"
   ]
  },
  {
   "cell_type": "code",
   "execution_count": null,
   "metadata": {},
   "outputs": [],
   "source": [
    "# stan_post_samples = loop_stan(sim_data)"
   ]
  },
  {
   "cell_type": "code",
   "execution_count": null,
   "metadata": {},
   "outputs": [],
   "source": [
    "# pickle.dump(\n",
    "# {\n",
    "#     'rt': sim_data[:, : , 0], \n",
    "#     'context': sim_data[:, : , 1], \n",
    "#     'theta_d': theta_d,\n",
    "#     'stan_post_samples': stan_post_samples\n",
    "#     }, \n",
    "#     open('sim_data_ablation/sim_data_ablation_3200_noVar.pkl', 'wb+')\n",
    "# )"
   ]
  },
  {
   "cell_type": "markdown",
   "metadata": {},
   "source": [
    "## Low variance"
   ]
  },
  {
   "cell_type": "code",
   "execution_count": null,
   "metadata": {},
   "outputs": [],
   "source": [
    "prior_draws = dynamic_prior(BATCH_SIZE, fixed_var=0.001)\n",
    "context = context_gen(BATCH_SIZE, N_OBS)\n",
    "sim_data, theta_d, theta_s = dynamic_batch_simulator(prior_draws, context)\n",
    "sim_data.shape"
   ]
  },
  {
   "cell_type": "code",
   "execution_count": null,
   "metadata": {},
   "outputs": [],
   "source": [
    "# sanity check\n",
    "which_param = 0\n",
    "plt.plot(np.arange(N_OBS), theta_d[0, :, which_param])"
   ]
  },
  {
   "cell_type": "code",
   "execution_count": null,
   "metadata": {},
   "outputs": [],
   "source": [
    "# stan_post_samples = loop_stan(sim_data)"
   ]
  },
  {
   "cell_type": "code",
   "execution_count": null,
   "metadata": {},
   "outputs": [],
   "source": [
    "# pickle.dump(\n",
    "# {\n",
    "#     'rt': sim_data[:, : , 0], \n",
    "#     'context': sim_data[:, : , 1], \n",
    "#     'theta_d': theta_d,\n",
    "#     }, \n",
    "#     open('sim_data_ablation/sim_data_ablation_3200_lowVar.pkl', 'wb+')\n",
    "# )"
   ]
  },
  {
   "cell_type": "markdown",
   "metadata": {},
   "source": [
    "## High variance"
   ]
  },
  {
   "cell_type": "code",
   "execution_count": null,
   "metadata": {},
   "outputs": [],
   "source": [
    "prior_draws = dynamic_prior(BATCH_SIZE, fixed_var=0.1)\n",
    "context = context_gen(BATCH_SIZE, N_OBS)\n",
    "sim_data, theta_d, theta_s = dynamic_batch_simulator(prior_draws, context)\n",
    "sim_data.shape"
   ]
  },
  {
   "cell_type": "code",
   "execution_count": null,
   "metadata": {},
   "outputs": [],
   "source": [
    "# sanity check\n",
    "which_param = 0\n",
    "plt.plot(np.arange(N_OBS), theta_d[0, :, which_param])"
   ]
  },
  {
   "cell_type": "code",
   "execution_count": null,
   "metadata": {},
   "outputs": [],
   "source": [
    "# stan_post_samples = loop_stan(sim_data)"
   ]
  },
  {
   "cell_type": "code",
   "execution_count": null,
   "metadata": {},
   "outputs": [],
   "source": [
    "# pickle.dump(\n",
    "# {\n",
    "#     'rt': sim_data[:, : , 0], \n",
    "#     'context': sim_data[:, : , 1], \n",
    "#     'theta_d': theta_d,\n",
    "#     }, \n",
    "#     open('sim_data_ablation/sim_data_ablation_3200_highVar.pkl', 'wb+')\n",
    "# )"
   ]
  },
  {
   "cell_type": "markdown",
   "metadata": {},
   "source": [
    "# Amortizers"
   ]
  },
  {
   "cell_type": "markdown",
   "metadata": {},
   "source": [
    "## Network architecture"
   ]
  },
  {
   "cell_type": "markdown",
   "metadata": {},
   "source": [
    "## Loss"
   ]
  },
  {
   "cell_type": "code",
   "execution_count": null,
   "metadata": {},
   "outputs": [],
   "source": [
    "def nll(y_true, y_pred):\n",
    "    return tf.reduce_mean(-y_pred.log_prob(y_true))"
   ]
  },
  {
   "cell_type": "markdown",
   "metadata": {},
   "source": [
    "## Epoch helper"
   ]
  },
  {
   "cell_type": "code",
   "execution_count": null,
   "metadata": {},
   "outputs": [],
   "source": [
    "def epoch_trainer(network, optimizer, batch_size, n_obs, steps_per_epoch, p_bar, fixed_var):\n",
    "    losses = []\n",
    "    for step in range(1, steps_per_epoch+1):\n",
    "        with tf.GradientTape() as tape:\n",
    "            # Simulate from model\n",
    "            prior_draws = dynamic_prior(batch_size, fixed_var)\n",
    "            context = context_gen(batch_size, n_obs)\n",
    "            sim_data, theta_d, theta_s = dynamic_batch_simulator(prior_draws, context)\n",
    "\n",
    "            # predict\n",
    "            net_in = tf.concat((sim_data[:, :, :1], to_categorical(sim_data[:, :, 1:])), axis=-1)\n",
    "            pred_theta_d, pred_theta_s = network(net_in)\n",
    "\n",
    "            # loss\n",
    "            loss_d = nll(theta_d, pred_theta_d)\n",
    "            loss_s = nll(theta_s, pred_theta_s)\n",
    "            total_loss = loss_d + loss_s\n",
    "\n",
    "        g = tape.gradient(total_loss, network.trainable_variables)\n",
    "        optimizer.apply_gradients(zip(g, network.trainable_variables))\n",
    "        losses.append(total_loss.numpy())\n",
    "\n",
    "        # Update progress bar\n",
    "        p_bar.set_postfix_str(\"Ep: {},Step {},Loss D: {:.3f} Running Loss: {:.3f}\"\n",
    "                              .format(ep, step, loss_d.numpy(), np.mean(losses)))\n",
    "        p_bar.update(1)\n",
    "\n",
    "def static_epoch_trainer(network, optimizer, batch_size, n_obs, steps_per_epoch, p_bar):\n",
    "    \n",
    "    losses = []\n",
    "    for step in range(1, steps_per_epoch+1):\n",
    "        with tf.GradientTape() as tape:\n",
    "        \n",
    "            # Simulate from model\n",
    "            prior_draws = dynamic_prior(batch_size)\n",
    "            context = context_gen(batch_size, n_obs)\n",
    "            sim_data, theta_d = static_batch_simulator(prior_draws, context)\n",
    "\n",
    "            net_in = tf.concat((sim_data[:, :, :1], to_categorical(sim_data[:, :, 1:])), axis=-1)\n",
    "            pred_theta_d = network(net_in)\n",
    "\n",
    "            # Loss \n",
    "            loss_d = nll(theta_d, pred_theta_d)\n",
    "            \n",
    "            total_loss = loss_d\n",
    "        g = tape.gradient(total_loss, network.trainable_variables)\n",
    "        optimizer.apply_gradients(zip(g, network.trainable_variables))\n",
    "        losses.append(total_loss.numpy())\n",
    "\n",
    "        # Update progress bar\n",
    "        p_bar.set_postfix_str(\"Ep: {},Step {},Loss D: {:.3f} Running Loss: {:.3f}\"\n",
    "                              .format(ep, step, loss_d.numpy(), np.mean(losses)))\n",
    "        p_bar.update(1)\n",
    "            \n",
    "        total_loss = loss_d\n",
    "        g = tape.gradient(total_loss, network.trainable_variables)\n",
    "        optimizer.apply_gradients(zip(g, network.trainable_variables))\n",
    "        losses.append(total_loss.numpy())\n",
    "\n",
    "        # Update progress bar\n",
    "        p_bar.set_postfix_str(\"Ep: {},Step {},Loss D: {:.3f} Running Loss: {:.3f}\"\n",
    "                              .format(ep, step, loss_d.numpy(), np.mean(losses)))\n",
    "        p_bar.update(1)"
   ]
  },
  {
   "cell_type": "markdown",
   "metadata": {},
   "source": [
    "## Training"
   ]
  },
  {
   "cell_type": "code",
   "execution_count": null,
   "metadata": {},
   "outputs": [],
   "source": [
    "N_OBS = 3200\n",
    "BATCH_SIZE = 8\n",
    "STEPS_PER_EPOCH = 1000\n",
    "epochs = [25, 25, 25, 25]\n",
    "learning_rates = [0.0001, 0.00005, 0.00001, 0.000005]"
   ]
  },
  {
   "cell_type": "markdown",
   "metadata": {},
   "source": [
    "### No variance (static)"
   ]
  },
  {
   "cell_type": "code",
   "execution_count": null,
   "metadata": {},
   "outputs": [],
   "source": [
    "network = StaticHeteroscedasticNetwork(6)"
   ]
  },
  {
   "cell_type": "code",
   "execution_count": null,
   "metadata": {},
   "outputs": [],
   "source": [
    "%%time\n",
    "for i in range(len(epochs)):\n",
    "    # set learning rate\n",
    "    optimizer = tf.keras.optimizers.Adam(learning_rates[i])\n",
    "    \n",
    "    # train epochs\n",
    "    for ep in range(1, epochs[i]+1):\n",
    "        with tqdm(total=STEPS_PER_EPOCH, desc='Training epoch {}'.format(ep)) as p_bar:\n",
    "            static_epoch_trainer(network, optimizer, BATCH_SIZE, N_OBS, STEPS_PER_EPOCH, p_bar)\n",
    "    \n",
    "    #save weights\n",
    "    network.save_weights('checkpoints/ablation_static_3200')"
   ]
  },
  {
   "cell_type": "markdown",
   "metadata": {},
   "source": [
    "### Low variance"
   ]
  },
  {
   "cell_type": "code",
   "execution_count": null,
   "metadata": {},
   "outputs": [],
   "source": [
    "network = StaticHeteroscedasticNetwork(6)"
   ]
  },
  {
   "cell_type": "code",
   "execution_count": null,
   "metadata": {},
   "outputs": [],
   "source": [
    "%%time\n",
    "for i in range(len(epochs)):\n",
    "    # set learning rate\n",
    "    optimizer = tf.keras.optimizers.Adam(learning_rates[i])\n",
    "    \n",
    "    # train epochs\n",
    "    for ep in range(1, epochs[i]+1):\n",
    "        with tqdm(total=STEPS_PER_EPOCH, desc='Training epoch {}'.format(ep)) as p_bar:\n",
    "            epoch_trainer(network, optimizer, BATCH_SIZE, N_OBS, STEPS_PER_EPOCH, p_bar, 0.001)\n",
    "    \n",
    "    #save weights\n",
    "    network.save_weights('checkpoints/ablation_lowVar_3200')"
   ]
  },
  {
   "cell_type": "markdown",
   "metadata": {},
   "source": [
    "### High variance"
   ]
  },
  {
   "cell_type": "code",
   "execution_count": null,
   "metadata": {},
   "outputs": [],
   "source": [
    "network = StaticHeteroscedasticNetwork(6)"
   ]
  },
  {
   "cell_type": "code",
   "execution_count": null,
   "metadata": {},
   "outputs": [],
   "source": [
    "%%time\n",
    "for i in range(len(epochs)):\n",
    "    # set learning rate\n",
    "    optimizer = tf.keras.optimizers.Adam(learning_rates[i])\n",
    "    \n",
    "    # train epochs\n",
    "    for ep in range(1, epochs[i]+1):\n",
    "        with tqdm(total=STEPS_PER_EPOCH, desc='Training epoch {}'.format(ep)) as p_bar:\n",
    "            epoch_trainer(network, optimizer, BATCH_SIZE, N_OBS, STEPS_PER_EPOCH, p_bar, 0.1)\n",
    "    \n",
    "    #save weights\n",
    "    network.save_weights('checkpoints/ablation_highVar_3200')"
   ]
  },
  {
   "cell_type": "markdown",
   "metadata": {},
   "source": [
    "# Evaluation"
   ]
  },
  {
   "cell_type": "code",
   "execution_count": 29,
   "metadata": {},
   "outputs": [
    {
     "data": {
      "text/plain": [
       "<tensorflow.python.training.tracking.util.CheckpointLoadStatus at 0x7fbafcb819a0>"
      ]
     },
     "execution_count": 29,
     "metadata": {},
     "output_type": "execute_result"
    }
   ],
   "source": [
    "# load trained network\n",
    "network_no_var     = StaticHeteroscedasticNetwork(6)\n",
    "network_low_var    = StaticHeteroscedasticNetwork(6)\n",
    "network_high_var   = StaticHeteroscedasticNetwork(6)\n",
    "network_dynamic_dm = HeteroscedasticNetwork(6, 6)\n",
    "network_no_var.load_weights('checkpoints_ablation/ablation_static_3200_new')\n",
    "network_low_var.load_weights('checkpoints_ablation/ablation_lowVar_3200_new')\n",
    "network_high_var.load_weights('checkpoints_ablation/ablation_highVar_3200_new')\n",
    "network_dynamic_dm.load_weights('../model_comparison/checkpoints/varying_hyperparams_3200')"
   ]
  },
  {
   "cell_type": "code",
   "execution_count": 30,
   "metadata": {},
   "outputs": [],
   "source": [
    "def plot_post_sd(stan_post_samples, bf_post_no_var, bf_post_low_var, bf_post_high_var, bf_post_dynamic_dm, res, types):\n",
    "    # get mean and sd of posterior sd's from Bayesflow fits\n",
    "    bf_post_no_var_sd   = np.array(bf_post_no_var.stddev()).mean(axis=0)\n",
    "    bf_post_low_var_sd  = np.array(bf_post_low_var.stddev()).mean(axis=0)\n",
    "    bf_post_high_var_sd = np.array(bf_post_high_var.stddev()).mean(axis=0)\n",
    "    bf_post_dynamic_dm_sd = np.array(bf_post_dynamic_dm.stddev()).mean(axis=0)\n",
    "    bf_post_no_var_sd_sd   = np.array(bf_post_no_var.stddev()).std(axis=0)\n",
    "    bf_post_low_var_sd_sd  = np.array(bf_post_low_var.stddev()).std(axis=0)\n",
    "    bf_post_high_var_sd_sd = np.array(bf_post_high_var.stddev()).std(axis=0)\n",
    "    bf_post_dynamic_dm_sd_sd = np.array(bf_post_dynamic_dm.stddev()).std(axis=0)\n",
    "\n",
    "    # get mean and sd posterior sd's from Stan fits\n",
    "    stan_sd = np.zeros((100, 6))\n",
    "    for j in range(100):\n",
    "        v = np.array(stan_post_samples[stan_post_samples.sim == j+1][['v.1', 'v.2', 'v.3', 'v.4']])\n",
    "        a = stan_post_samples[stan_post_samples.sim == j+1]['a']\n",
    "        ndt = stan_post_samples[stan_post_samples.sim == j+1]['ndt']\n",
    "        # v = stan_post_samples[j]['v']\n",
    "        # a = stan_post_samples[j]['a']\n",
    "        # ndt = stan_post_samples[j]['ndt']\n",
    "\n",
    "        stan_posterior = np.c_[v, a, ndt]\n",
    "        stan_sd[j] = stan_posterior.std(axis=0)\n",
    "\n",
    "    stan_sd_sd = stan_sd.std(axis=0)\n",
    "    stan_sd = stan_sd.mean(axis=0)\n",
    "\n",
    "    # plotting info\n",
    "    labels = ['No variance', 'Low variance', 'High variance', 'Dynamic DM', \"Static Stan\"]\n",
    "    param_labels = ['Drift rate 1', 'Drift rate 2', 'Drift rate 3', 'Drift rate 4', 'Threshold', 'Non-decision time']\n",
    "    colors = ['#e3a3a3', '#a63636', '#511515', '#598f70', \"#000000\"]\n",
    "    # colors = ['#d36666', '#852626', '#5d1b1b', \"#000000\"]\n",
    "    param_names = [r'$v_1$', r'$v_2$', r'$v_3$', r'$v_4$', r'$a$', r'$\\tau$']\n",
    "    alpha_line = 0.8\n",
    "    alpha_fill = 0.3\n",
    "    linewidth = 3\n",
    "\n",
    "    # plotting time window\n",
    "    x_min = int(bf_post_no_var_sd.shape[0] - res)\n",
    "    time = np.arange(x_min, bf_post_no_var_sd.shape[0])\n",
    "    f, axarr = plt.subplots(2, 3, figsize=(18, 8), constrained_layout=True)\n",
    "\n",
    "    # iterate over parameters\n",
    "    for i, ax in enumerate(axarr.flat):\n",
    "        # plot Bayesflow results\n",
    "        ax.plot(time, bf_post_no_var_sd[x_min:, i], color=colors[0], label=labels[0], alpha=alpha_line, linewidth=linewidth)\n",
    "        ax.plot(time, bf_post_low_var_sd[x_min:, i], color=colors[1], label=labels[1], alpha=alpha_line, linewidth=linewidth)\n",
    "        ax.plot(time, bf_post_high_var_sd[x_min:, i], color=colors[2], label=labels[2], alpha=alpha_line, linewidth=linewidth)\n",
    "        ax.plot(time, bf_post_dynamic_dm_sd[x_min:, i], color=colors[3], label=labels[3], alpha=alpha_line, linewidth=linewidth)\n",
    "        ax.fill_between(time, bf_post_no_var_sd[x_min:, i]+bf_post_no_var_sd_sd[x_min:, i]/2, bf_post_no_var_sd[x_min:, i]-bf_post_no_var_sd_sd[x_min:, i]/2, color=colors[0], alpha=alpha_fill)\n",
    "        ax.fill_between(time, bf_post_low_var_sd[x_min:, i]+bf_post_low_var_sd_sd[x_min:, i]/2, bf_post_low_var_sd[x_min:, i]-bf_post_low_var_sd_sd[x_min:, i]/2, color=colors[1], alpha=alpha_fill)\n",
    "        ax.fill_between(time, bf_post_high_var_sd[x_min:, i]+bf_post_high_var_sd_sd[x_min:, i]/2, bf_post_high_var_sd[x_min:, i]-bf_post_high_var_sd_sd[x_min:, i]/2, color=colors[2], alpha=alpha_fill)\n",
    "        ax.fill_between(time, bf_post_dynamic_dm_sd[x_min:, i]+bf_post_dynamic_dm_sd_sd[x_min:, i]/2, bf_post_dynamic_dm_sd[x_min:, i]-bf_post_dynamic_dm_sd_sd[x_min:, i]/2, color=colors[3], alpha=alpha_fill)\n",
    "\n",
    "        # plot Stan results\n",
    "        ax.hlines(y=stan_sd[i], xmin=x_min, xmax=3200, color=colors[4], label=labels[4], linestyles=\"dashed\", linewidth=1.5)\n",
    "        stan_sd_array = np.repeat(stan_sd[i], len(time))\n",
    "        ax.fill_between(time, stan_sd_array+stan_sd_sd[i]/2, stan_sd_array-stan_sd_sd[i]/2, color=colors[4], alpha=0.2)\n",
    "\n",
    "        # set appropriate x-axis limits\n",
    "        max_val = np.array([bf_post_no_var_sd[x_min:, i], \n",
    "                            bf_post_low_var_sd[x_min:, i],\n",
    "                            bf_post_high_var_sd[x_min:, i],\n",
    "                            bf_post_dynamic_dm_sd[x_min:, i]]).max()\n",
    "        ax.set_ylim(0, max_val + max_val/2)\n",
    "\n",
    "        sns.despine(ax=ax)\n",
    "        ax.set_xlabel('Time (t)', fontsize=18)\n",
    "        ax.set_ylabel('Posterior standard deviation', fontsize=18)\n",
    "        ax.set_title(param_labels[i] + ' ({})'.format(param_names[i]), fontsize=20)\n",
    "        ax.set_xticks(np.arange(0, 3201, 800))\n",
    "        ax.tick_params(axis='both', which='major', labelsize=16)\n",
    "\n",
    "        if i == 0:  \n",
    "            f.legend(fontsize=16, loc='center', \n",
    "                    bbox_to_anchor=(0.5, -0.05),fancybox=False, shadow=False, ncol=5)\n",
    "            f.suptitle(\"Parameter SDs over time: {}\".format(labels[types]) + \" simulated data\\n\", fontsize=22)\n",
    "\n",
    "    f.tight_layout()"
   ]
  },
  {
   "cell_type": "code",
   "execution_count": 31,
   "metadata": {},
   "outputs": [],
   "source": [
    "def plot_post_mean_error(stan_post_samples, bf_post_no_var, bf_post_low_var, bf_post_high_var, bf_post_dynamic, types):\n",
    "    # get mean and sd of posterior means's from Bayesflow fits\n",
    "    bf_post_mean_no_var      = np.array(bf_post_no_var.mean()).mean(axis=0)\n",
    "    bf_post_mean_low_var     = np.array(bf_post_low_var.mean()).mean(axis=0)\n",
    "    bf_post_mean_high_var    = np.array(bf_post_high_var.mean()).mean(axis=0)\n",
    "    bf_post_mean_dynamic_var    = np.array(bf_post_dynamic.mean()).mean(axis=0)\n",
    "    # bf_post_mean_no_var_sd   = np.array(bf_post_no_var.mean()).std(axis=0)\n",
    "    # bf_post_mean_low_var_sd  = np.array(bf_post_low_var.mean()).std(axis=0)\n",
    "    # bf_post_mean_high_var_sd = np.array(bf_post_high_var.mean()).std(axis=0)\n",
    "    # bf_post_mean_dynamic_var_sd = np.array(bf_post_dynamic.mean()).std(axis=0)\n",
    "\n",
    "    # get mean and sd posterior mean's from Stan fits\n",
    "    stan_mean = np.zeros((100, 6))\n",
    "    for j in range(100):\n",
    "        v = np.array(stan_post_samples[stan_post_samples.sim == j+1][['v.1', 'v.2', 'v.3', 'v.4']])\n",
    "        a = stan_post_samples[stan_post_samples.sim == j+1]['a']\n",
    "        ndt = stan_post_samples[stan_post_samples.sim == j+1]['ndt']\n",
    "        stan_posterior = np.c_[v, a, ndt]\n",
    "        stan_mean[j] = stan_posterior.mean(axis=0)\n",
    "\n",
    "    stan_mean_sd = stan_mean.std(axis=0)\n",
    "    stan_mean = stan_mean.mean(axis=0)\n",
    "\n",
    "    stan_mean_sd = stan_mean.std(axis=0)\n",
    "    stan_mean = stan_mean.mean(axis=0)\n",
    "\n",
    "    sqrt_err_no_var = (bf_post_mean_no_var - stan_mean)**2\n",
    "    sqrt_err_low_var = (bf_post_mean_low_var - stan_mean)**2\n",
    "    sqrt_err_high_var = (bf_post_mean_high_var - stan_mean)**2\n",
    "    sqrt_err_dynamic = (bf_post_mean_dynamic_var - stan_mean)**2\n",
    "\n",
    "    # plotting info\n",
    "    labels = ['No variance', 'Low variance', 'High variance', 'Dynamic DM']\n",
    "    param_labels = ['Drift rate 1', 'Drift rate 2', 'Drift rate 3', 'Drift rate 4', 'Threshold', 'Non-decision time']\n",
    "    \n",
    "    colors = ['#e3a3a3', '#a63636', '#511515', '#598f70', \"#000000\"]\n",
    "    # colors = ['#d36666', '#852626', '#5d1b1b', \"#000000\"]\n",
    "    param_names = [r'$v_1$', r'$v_2$', r'$v_3$', r'$v_4$', r'$a$', r'$\\tau$']\n",
    "    alpha_line = 0.8\n",
    "    linewidth = 3\n",
    "\n",
    "    # plotting time window\n",
    "    time = np.arange(sqrt_err_no_var.shape[0])\n",
    "    f, axarr = plt.subplots(2, 3, figsize=(18, 8), constrained_layout=True)\n",
    "\n",
    "    # iterate over parameters\n",
    "    for i, ax in enumerate(axarr.flat):\n",
    "        # plot Bayesflow results\n",
    "        ax.plot(time, sqrt_err_no_var[:, i], color=colors[0], label=labels[0], alpha=alpha_line, linewidth=linewidth)\n",
    "        ax.plot(time, sqrt_err_low_var[:, i], color=colors[1], label=labels[1], alpha=alpha_line, linewidth=linewidth)\n",
    "        ax.plot(time, sqrt_err_high_var[:, i], color=colors[2], label=labels[2], alpha=alpha_line, linewidth=linewidth)\n",
    "        ax.plot(time, sqrt_err_dynamic[:, i], color=colors[3], label=labels[3], alpha=alpha_line, linewidth=linewidth)\n",
    "\n",
    "        # set appropriate x-axis limits\n",
    "        max_val = np.array([sqrt_err_no_var[:, i], \n",
    "                            sqrt_err_low_var[:, i],\n",
    "                            sqrt_err_high_var[:, i],\n",
    "                            sqrt_err_dynamic[:, i]]).max()\n",
    "        ax.set_ylim(0, max_val + max_val/2)\n",
    "\n",
    "        sns.despine(ax=ax)\n",
    "        ax.set_xlabel('Time (t)', fontsize=18)\n",
    "        ax.set_ylabel('Squared Error of posterior mean', fontsize=18)\n",
    "        ax.set_title(param_labels[i] + ' ({})'.format(param_names[i]), fontsize=20)\n",
    "        ax.set_xticks(np.arange(0, 3201, 800))\n",
    "        ax.tick_params(axis='both', which='major', labelsize=16)\n",
    "\n",
    "        if i == 0:  \n",
    "            f.legend(fontsize=16, loc='center', \n",
    "                    bbox_to_anchor=(0.5, -0.05),fancybox=False, shadow=False, ncol=4)\n",
    "            f.suptitle(\"Difference between posterior means of BayesFlow and Stan: 100 {}\".format(labels[types]) + \" simulated data\\n\", fontsize=22)\n",
    "\n",
    "    f.tight_layout()"
   ]
  },
  {
   "cell_type": "markdown",
   "metadata": {},
   "source": [
    "### No variance (static)"
   ]
  },
  {
   "cell_type": "code",
   "execution_count": 32,
   "metadata": {},
   "outputs": [
    {
     "data": {
      "text/plain": [
       "(100, 3200, 5)"
      ]
     },
     "execution_count": 32,
     "metadata": {},
     "output_type": "execute_result"
    }
   ],
   "source": [
    "# load simulated data and stan fits\n",
    "sim = pd.read_pickle('sim_data_ablation/sim_data_ablation_3200_noVar_2.pkl')\n",
    "\n",
    "rt = sim['rt']\n",
    "context = to_categorical(sim['context'])\n",
    "x_nn = np.concatenate((rt[:, :, np.newaxis], context), axis=-1)\n",
    "stan_post_samples = sim['stan_post_samples']\n",
    "true_theta_d = sim['theta_d']\n",
    "x_nn.shape"
   ]
  },
  {
   "cell_type": "code",
   "execution_count": 33,
   "metadata": {},
   "outputs": [],
   "source": [
    "# amortized inference\n",
    "bf_post_no_var        = network_no_var(x_nn)\n",
    "bf_post_low_var       = network_low_var(x_nn)\n",
    "bf_post_high_var      = network_high_var(x_nn)\n",
    "bf_post_dynamic_dm, _ = network_dynamic_dm(x_nn)\n",
    "bf_post_dynamic_dm.shape"
   ]
  },
  {
   "cell_type": "code",
   "execution_count": null,
   "metadata": {},
   "outputs": [],
   "source": [
    "plot_post_sd(stan_post_samples, bf_post_no_var, bf_post_low_var, bf_post_high_var, bf_post_dynamic_dm, 3200, 0)"
   ]
  },
  {
   "cell_type": "code",
   "execution_count": null,
   "metadata": {},
   "outputs": [],
   "source": [
    "plot_post_mean_error(stan_post_samples, bf_post_no_var, bf_post_low_var, bf_post_high_var, bf_post_dynamic_dm, 0)"
   ]
  },
  {
   "cell_type": "markdown",
   "metadata": {},
   "source": [
    "### Low variance"
   ]
  },
  {
   "cell_type": "code",
   "execution_count": null,
   "metadata": {},
   "outputs": [],
   "source": [
    "# load simulated data and stan fits\n",
    "sim = pd.read_pickle('sim_data_ablation/sim_data_ablation_3200_lowVar_2.pkl')\n",
    "rt = sim['rt']\n",
    "context = sim['context']\n",
    "x_nn = np.concatenate((rt[:, :, np.newaxis], context), axis=-1)\n",
    "true_theta_d = sim['theta_d']\n",
    "stan_post_samples = sim['stan_post_samples']\n",
    "x_nn.shape"
   ]
  },
  {
   "cell_type": "code",
   "execution_count": null,
   "metadata": {},
   "outputs": [],
   "source": [
    "# amortized inference\n",
    "bf_post_no_var   = network_no_var(x_nn)\n",
    "bf_post_low_var  = network_low_var(x_nn)\n",
    "bf_post_high_var = network_high_var(x_nn)\n",
    "bf_post_dynamic_dm = network_dynamic_dm(x_nn)"
   ]
  },
  {
   "cell_type": "code",
   "execution_count": null,
   "metadata": {},
   "outputs": [],
   "source": [
    "plot_post_sd(stan_post_samples, bf_post_no_var, bf_post_low_var, bf_post_high_var, bf_post_dynamic_dm[0], 3200, 1)"
   ]
  },
  {
   "cell_type": "code",
   "execution_count": null,
   "metadata": {},
   "outputs": [],
   "source": [
    "plot_post_mean_error(stan_post_samples, bf_post_no_var, bf_post_low_var, bf_post_high_var, bf_post_dynamic_dm[0], 1)"
   ]
  },
  {
   "cell_type": "markdown",
   "metadata": {},
   "source": [
    "### High variance"
   ]
  },
  {
   "cell_type": "code",
   "execution_count": null,
   "metadata": {},
   "outputs": [],
   "source": [
    "# load simulated data and stan fits\n",
    "sim = pd.read_pickle('sim_data_ablation/sim_data_ablation_3200_highVar_2.pkl')\n",
    "rt = sim['rt']\n",
    "context = to_categorical(sim['context'])\n",
    "x_nn = np.concatenate((rt[:, :, np.newaxis], context), axis=-1)\n",
    "true_theta_d = sim['theta_d']\n",
    "stan_post_samples = sim['stan_post_samples']"
   ]
  },
  {
   "cell_type": "code",
   "execution_count": null,
   "metadata": {},
   "outputs": [],
   "source": [
    "# amortized inference\n",
    "bf_post_no_var   = network_no_var(x_nn)\n",
    "bf_post_low_var  = network_low_var(x_nn)\n",
    "bf_post_high_var = network_high_var(x_nn)\n",
    "bf_post_dynamic_dm = network_dynamic_dm(x_nn)"
   ]
  },
  {
   "cell_type": "code",
   "execution_count": null,
   "metadata": {},
   "outputs": [],
   "source": [
    "plot_post_sd(stan_post_samples, bf_post_no_var, bf_post_low_var, bf_post_high_var, bf_post_dynamic_dm[0], 3200, 2)"
   ]
  },
  {
   "cell_type": "code",
   "execution_count": null,
   "metadata": {},
   "outputs": [],
   "source": [
    "plot_post_mean_error(stan_post_samples, bf_post_no_var, bf_post_low_var, bf_post_high_var, bf_post_dynamic_dm[0], 2)"
   ]
  },
  {
   "cell_type": "markdown",
   "metadata": {},
   "source": [
    "## True vs. Estimated Parameter Gif"
   ]
  },
  {
   "cell_type": "code",
   "execution_count": null,
   "metadata": {},
   "outputs": [],
   "source": [
    "def true_vs_estimated(theta_true, theta_est, theta_est_sd, param_names, dpi=300,\n",
    "                      figsize=(20, 4), show=True, filename=None, font_size=12):\n",
    "    \"\"\" Plots a scatter plot with abline of the estimated posterior means vs true values.\n",
    "    Parameters\n",
    "    ----------\n",
    "    theta_true: np.array\n",
    "        Array of true parameters.\n",
    "    theta_est: np.array\n",
    "        Array of estimated parameters.\n",
    "    param_names: list(str)\n",
    "        List of parameter names for plotting.\n",
    "    dpi: int, default:300\n",
    "        Dots per inch (dpi) for the plot.\n",
    "    figsize: tuple(int, int), default: (20,4)\n",
    "        Figure size.\n",
    "    show: boolean, default: True\n",
    "        Controls if the plot will be shown\n",
    "    filename: str, default: None\n",
    "        Filename if plot shall be saved\n",
    "    font_size: int, default: 12\n",
    "        Font size\n",
    "    \"\"\"\n",
    "\n",
    "    cm = plt.cm.get_cmap('inferno')\n",
    "\n",
    "    # Plot settings\n",
    "    plt.rcParams['font.size'] = font_size\n",
    "\n",
    "    # Determine n_subplots dynamically\n",
    "    n_row = int(np.ceil(len(param_names) / 6))\n",
    "    n_col = int(np.ceil(len(param_names) / n_row))\n",
    "\n",
    "    # Initialize figure\n",
    "    f, axarr = plt.subplots(n_row, n_col, figsize=figsize)\n",
    "    if n_row > 1:\n",
    "        axarr = axarr.flat\n",
    "        \n",
    "    # --- Plot true vs estimated posterior means on a single row --- #\n",
    "    for j in range(len(param_names)):\n",
    "        \n",
    "        # Plot analytic vs estimated\n",
    "        axarr[j].scatter(x=theta_est[:, j], y=theta_true[:, j], c=theta_est_sd[:, j], alpha=0.6, cmap=cm)\n",
    "        # axarr[j].colorbar()\n",
    "        \n",
    "        # get axis limits and set equal x and y limits\n",
    "        lower_lim = min(axarr[j].get_xlim()[0], axarr[j].get_ylim()[0])\n",
    "        upper_lim = max(axarr[j].get_xlim()[1], axarr[j].get_ylim()[1])\n",
    "        axarr[j].set_xlim((lower_lim, upper_lim))\n",
    "        axarr[j].set_ylim((lower_lim, upper_lim))\n",
    "        axarr[j].plot(axarr[j].get_xlim(), axarr[j].get_xlim(), '--', color='black')\n",
    "        \n",
    "        # Compute NRMSE\n",
    "        rmse = np.sqrt(np.mean( (theta_est[:, j] - theta_true[:, j])**2 ))\n",
    "        nrmse = rmse / (theta_true[:, j].max() - theta_true[:, j].min())\n",
    "        axarr[j].text(0.1, 0.9, 'NRMSE={:.3f}'.format(nrmse),\n",
    "                     horizontalalignment='left',\n",
    "                     verticalalignment='center',\n",
    "                     transform=axarr[j].transAxes,\n",
    "                     size=10)\n",
    "        \n",
    "        # Compute R2\n",
    "        r2 = r2_score(theta_true[:, j], theta_est[:, j])\n",
    "        axarr[j].text(0.1, 0.8, '$R^2$={:.3f}'.format(r2),\n",
    "                     horizontalalignment='left',\n",
    "                     verticalalignment='center',\n",
    "                     transform=axarr[j].transAxes, \n",
    "                     size=10)\n",
    "        \n",
    "        if j == 0:\n",
    "            # Label plot\n",
    "            axarr[j].set_xlabel('Estimated')\n",
    "            axarr[j].set_ylabel('True')\n",
    "            # test = axarr[j].scatter(x=theta_est[:, j], y=theta_true[:, j], c=theta_est_sd[:, j], alpha=0.6)\n",
    "            # f.colorbar(axarr[j])\n",
    "        axarr[j].set_title(param_names[j])\n",
    "        axarr[j].spines['right'].set_visible(False)\n",
    "        axarr[j].spines['top'].set_visible(False)\n",
    "    \n",
    "    # Adjust spaces\n",
    "    f.tight_layout()\n",
    "\n",
    "    if show:\n",
    "        plt.show()\n",
    "\n",
    "    if filename is not None:\n",
    "        f.savefig(filename)"
   ]
  },
  {
   "cell_type": "code",
   "execution_count": 18,
   "metadata": {},
   "outputs": [
    {
     "data": {
      "image/png": "[encoded data removed]",
      "text/plain": [
       "<Figure size 1440x288 with 6 Axes>"
      ]
     },
     "metadata": {
      "needs_background": "light"
     },
     "output_type": "display_data"
    }
   ],
   "source": [
    "time = 10\n",
    "true_param = true_theta_d[:, time, :]\n",
    "pred_param = bf_post_no_var.mean()[:, time, :]\n",
    "pred_param_sd = bf_post_no_var.stddev()[:, time, :]\n",
    "\n",
    "PARAM_LABELS = [r'$v_1$', r'$v_2$', r'$v_3$', r'$v_3$', r'$a$', r'$\\tau$']\n",
    "# Recovery plot\n",
    "true_vs_estimated(theta_true=true_param, theta_est=pred_param, theta_est_sd=pred_param_sd,\n",
    "                  param_names=PARAM_LABELS, dpi=300, figsize=(20,4),font_size=16)"
   ]
  },
  {
   "cell_type": "code",
   "execution_count": 19,
   "metadata": {},
   "outputs": [
    {
     "data": {
      "image/png": "[encoded data removed]",
      "text/plain": [
       "<Figure size 432x288 with 2 Axes>"
      ]
     },
     "metadata": {
      "needs_background": "light"
     },
     "output_type": "display_data"
    }
   ],
   "source": [
    "import matplotlib.pyplot as plt\n",
    "cm = plt.cm.get_cmap('inferno')\n",
    "sc = plt.scatter(x=true_param[:, 0], y=pred_param[:, 0], c=pred_param_sd[:, 0], cmap=cm, alpha=0.8)\n",
    "plt.colorbar(sc)\n",
    "plt.show()"
   ]
  }
 ],
 "metadata": {
  "interpreter": {
   "hash": "e5c1a6784774cb00c4ca0a99fd750e2e4caf18aa135f6d49553516d8651234b4"
  },
  "kernelspec": {
   "display_name": "Python 3.9.7 ('cognitiveModeling')",
   "language": "python",
   "name": "python3"
  },
  "language_info": {
   "codemirror_mode": {
    "name": "ipython",
    "version": 3
   },
   "file_extension": ".py",
   "mimetype": "text/x-python",
   "name": "python",
   "nbconvert_exporter": "python",
   "pygments_lexer": "ipython3",
   "version": "3.9.7"
  },
  "orig_nbformat": 4
 },
 "nbformat": 4,
 "nbformat_minor": 2
}
