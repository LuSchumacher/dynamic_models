{
 "cells": [
  {
   "cell_type": "code",
   "execution_count": null,
   "metadata": {},
   "outputs": [],
   "source": [
    "import numpy as np\n",
    "import matplotlib.pyplot as plt\n",
    "import seaborn as sns\n",
    "import pandas as pd\n",
    "from numba import njit\n",
    "from tqdm.notebook import tqdm\n",
    "import pystan\n",
    "import stan_utility"
   ]
  },
  {
   "cell_type": "code",
   "execution_count": null,
   "metadata": {},
   "outputs": [],
   "source": [
    "import multiprocessing\n",
    "multiprocessing.set_start_method(\"fork\")"
   ]
  },
  {
   "cell_type": "markdown",
   "metadata": {},
   "source": [
    "## Simulators"
   ]
  },
  {
   "cell_type": "markdown",
   "metadata": {},
   "source": [
    "### Static"
   ]
  },
  {
   "cell_type": "code",
   "execution_count": null,
   "metadata": {},
   "outputs": [],
   "source": [
    "# def dynamic_prior(batch_size):\n",
    "#     \"\"\"\n",
    "#     Generates a random draw from the diffusion model prior.\n",
    "#     \"\"\"\n",
    "#     params = np.random.gamma(5.0, 0.5, (batch_size, 6))\n",
    "#     hyper_params = np.random.uniform(0.01, 0.1, (batch_size, 6))\n",
    "\n",
    "#     return np.c_[params, hyper_params]\n",
    "\n",
    "def dynamic_prior(batch_size):\n",
    "    \"\"\"\n",
    "    Generates a random draw from the diffusion model prior.\n",
    "    \"\"\"\n",
    "    v = np.random.gamma(2.5, 1/1.5, (batch_size, 4))\n",
    "    a = np.random.gamma(4.0, 1/3.0, batch_size)\n",
    "    ndt = np.random.gamma(1.5, 1/5.0, batch_size)\n",
    "    hyper_params = np.random.uniform(0.01, 0.1, (batch_size, 6))\n",
    "\n",
    "    return np.c_[v, a, ndt, hyper_params]\n",
    "\n",
    "\n",
    "@njit\n",
    "def context_gen(batch_size, n_obs):\n",
    "    obs_per_condition = int(n_obs / 4)\n",
    "    context = np.zeros((batch_size, n_obs), dtype=np.int32)\n",
    "    x = np.repeat([1, 2, 3, 4], obs_per_condition)\n",
    "    for i in range(batch_size):\n",
    "        np.random.shuffle(x)\n",
    "        context[i] = x\n",
    "    return context\n",
    "\n",
    "\n",
    "@njit\n",
    "def diffusion_trial(v, a, ndt, zr=0.5, dt=0.001, s=1.0, max_iter=1e4):\n",
    "    \"\"\"\n",
    "    Simulates a single reaction time from a simple drift-diffusion process.\n",
    "    \"\"\"\n",
    "\n",
    "    n_iter = 0\n",
    "    x = a * zr\n",
    "    c = np.sqrt(dt * s)\n",
    "    \n",
    "    while x > 0 and x < a:\n",
    "        \n",
    "        # DDM equation\n",
    "        x += v*dt + c * np.random.randn()\n",
    "        \n",
    "        n_iter += 1\n",
    "        \n",
    "    rt = n_iter * dt\n",
    "    return rt+ndt if x > 0 else -(rt+ndt)\n",
    "\n",
    "\n",
    "@njit\n",
    "def static_diffusion_process(prior_samples, context, n_obs):\n",
    "    \"\"\"\n",
    "    Performs one run of a static diffusion model process.\n",
    "    \"\"\"\n",
    "    \n",
    "    params_t, params_stds = np.split(prior_samples, 2, axis=-1)\n",
    "    \n",
    "    rt = np.zeros(n_obs)\n",
    "    \n",
    "    # Iterate over number of trials\n",
    "    for t in range(n_obs):\n",
    "        \n",
    "        # Run diffusion process\n",
    "        rt[t] = diffusion_trial(params_t[context[t] - 1], params_t[4], params_t[5])\n",
    "        \n",
    "    return np.vstack((rt, context)).T, params_t\n",
    "    \n",
    "\n",
    "@njit\n",
    "def static_batch_simulator(prior_samples, n_obs):\n",
    "    \n",
    "    batch_size = prior_samples.shape[0]\n",
    "    context = context_gen(batch_size, n_obs)\n",
    "    sim_data = np.zeros((batch_size, n_obs, 2))\n",
    "    theta = np.zeros((batch_size, n_obs, 6))\n",
    "\n",
    "    for i in range(batch_size):\n",
    "        sim_data[i], theta[i] = static_diffusion_process(prior_samples[i], \n",
    "                                                    context[i],\n",
    "                                                    n_obs)\n",
    "    return sim_data, theta"
   ]
  },
  {
   "cell_type": "code",
   "execution_count": null,
   "metadata": {},
   "outputs": [],
   "source": [
    "N_OBS = 800\n",
    "batch_size = 1"
   ]
  },
  {
   "cell_type": "code",
   "execution_count": null,
   "metadata": {},
   "outputs": [],
   "source": [
    "prior_draws = dynamic_prior(batch_size)\n",
    "sim_data, params_t = static_batch_simulator(prior_draws, N_OBS)\n",
    "params_t.shape"
   ]
  },
  {
   "cell_type": "markdown",
   "metadata": {},
   "source": [
    "## Stan modeling"
   ]
  },
  {
   "cell_type": "code",
   "execution_count": null,
   "metadata": {},
   "outputs": [],
   "source": [
    "stan_model = \"\"\"\n",
    "data {\n",
    "  int<lower=0> N;                 \n",
    "  real<lower=0> rt[N];    \n",
    "  int<lower=0,upper=1> correct[N];\n",
    "  int<lower=1,upper=4> context[N];\n",
    "}\n",
    "\n",
    "parameters {\n",
    "  real<lower=0> v[4];\n",
    "  real<lower=0> a; \n",
    "  real<lower=0> ndt;\n",
    "}\n",
    "\n",
    "model {\n",
    "  // Priors\n",
    "  v ~ gamma(2.5, 1.5);\n",
    "  a ~ gamma(4.0, 3.0);\n",
    "  ndt ~ gamma(1.5, 5.0);\n",
    "  \n",
    "  for (n in 1:N) {\n",
    "     if (correct[n] == 1) {\n",
    "        rt[n] ~ wiener(a, ndt, 0.5, v[context[n]]);\n",
    "     } \n",
    "     else {\n",
    "        rt[n] ~ wiener(a, ndt, 1 - 0.5, -v[context[n]]);\n",
    "     }\n",
    "  }\n",
    "}\n",
    "\"\"\""
   ]
  },
  {
   "cell_type": "code",
   "execution_count": null,
   "metadata": {},
   "outputs": [],
   "source": [
    "# compile stan model\n",
    "sm = pystan.StanModel(model_code=stan_model)"
   ]
  },
  {
   "cell_type": "code",
   "execution_count": null,
   "metadata": {},
   "outputs": [],
   "source": [
    "def to_stan(sim_data):\n",
    "    \"\"\"\n",
    "    Convert data from simulator to stan-friendly format.\n",
    "    \"\"\"\n",
    "    rt = sim_data[:, 0]\n",
    "    context = sim_data[:, 1].astype(np.int32)\n",
    "    correct = (rt >= 0).astype(np.int32)\n",
    "    rt = np.abs(rt).astype(np.float32)\n",
    "    return {'rt': rt, 'correct': correct, 'context': context, 'N': rt.shape[0]}\n",
    "\n",
    "def loop_stan(data, verbose=True):\n",
    "    \"\"\"\n",
    "    Loop through data and obtain posteriors.\n",
    "    \"\"\"\n",
    "    \n",
    "    stan_post_samples = []\n",
    "    for idx in range(data.shape[0]):\n",
    "        data_i = to_stan(data[idx])\n",
    "        ndt_init = min(data_i['x2'].min(), data_i['x1'].min()) * .75\n",
    "        init = {'ndt': ndt_init}\n",
    "        fit = sm.sampling(data=data_i, \n",
    "                          iter=2000, chains=4, n_jobs=4, init=[init, init, init, init],\n",
    "                          control=dict(adapt_delta=0.99, max_treedepth=15))\n",
    "        samples = fit.extract(permuted=True)\n",
    "        stan_post_samples.append(samples)\n",
    "        if verbose:\n",
    "            print(f'Finished estimating data set {idx+1}...')\n",
    "    return stan_post_samples"
   ]
  },
  {
   "cell_type": "code",
   "execution_count": null,
   "metadata": {},
   "outputs": [],
   "source": [
    "prior_draws = dynamic_prior(1)\n",
    "sim_data, params_t = static_batch_simulator(prior_draws, N_OBS)\n",
    "\n",
    "stan_data = to_stan(sim_data[0])\n",
    "ndt_init = stan_data['rt'].min() * 0.75\n",
    "init = {'ndt': ndt_init}\n",
    "\n",
    "fit = sm.sampling(data=stan_data, \n",
    "                    iter=2000, chains=4, n_jobs=4, init=[init, init, init, init],\n",
    "                    control=dict(adapt_delta=0.99, max_treedepth=15))\n",
    "                    \n",
    "# samples = fit.extract(permuted=True)"
   ]
  },
  {
   "cell_type": "code",
   "execution_count": null,
   "metadata": {},
   "outputs": [],
   "source": [
    "samples = fit.extract(permuted=True)\n",
    "np.mean(samples['v'], axis=0)\n",
    "# np.mean(samples['a'], axis=0)"
   ]
  },
  {
   "cell_type": "code",
   "execution_count": null,
   "metadata": {},
   "outputs": [],
   "source": [
    "params_t[0, 0, 0:4]\n",
    "# params_t[0, 0, 4]"
   ]
  },
  {
   "cell_type": "code",
   "execution_count": null,
   "metadata": {},
   "outputs": [],
   "source": [
    "print(fit)"
   ]
  },
  {
   "cell_type": "code",
   "execution_count": null,
   "metadata": {},
   "outputs": [],
   "source": [
    "stan_utility.check_all_diagnostics(fit)"
   ]
  },
  {
   "cell_type": "code",
   "execution_count": null,
   "metadata": {},
   "outputs": [],
   "source": []
  }
 ],
 "metadata": {
  "interpreter": {
   "hash": "e5c1a6784774cb00c4ca0a99fd750e2e4caf18aa135f6d49553516d8651234b4"
  },
  "kernelspec": {
   "display_name": "Python 3.9.7 ('cognitiveModeling')",
   "language": "python",
   "name": "python3"
  },
  "language_info": {
   "codemirror_mode": {
    "name": "ipython",
    "version": 3
   },
   "file_extension": ".py",
   "mimetype": "text/x-python",
   "name": "python",
   "nbconvert_exporter": "python",
   "pygments_lexer": "ipython3",
   "version": "3.9.7"
  },
  "orig_nbformat": 4
 },
 "nbformat": 4,
 "nbformat_minor": 2
}
