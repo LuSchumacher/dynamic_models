{
 "cells": [
  {
   "cell_type": "code",
   "execution_count": null,
   "metadata": {},
   "outputs": [],
   "source": [
    "import hddm\n",
    "\n",
    "# Load data from csv file into a NumPy structured array\n",
    "data = hddm.load_csv('simple_difficulty.csv')\n",
    "\n",
    "# Create a HDDM model multi object\n",
    "model = hddm.HDDM(data, depends_on={'v':'difficulty'})\n",
    "\n",
    "# Create model and start MCMC sampling\n",
    "model.sample(2000, burn=20)\n",
    "\n",
    "# Print fitted parameters and other model statistics\n",
    "model.print_stats()\n",
    "\n",
    "# Plot posterior distributions and theoretical RT distributions\n",
    "model.plot_posteriors()\n",
    "model.plot_posterior_predictive()"
   ]
  }
 ],
 "metadata": {
  "interpreter": {
   "hash": "e5c1a6784774cb00c4ca0a99fd750e2e4caf18aa135f6d49553516d8651234b4"
  },
  "kernelspec": {
   "display_name": "Python 3.9.7 ('cognitiveModeling')",
   "language": "python",
   "name": "python3"
  },
  "language_info": {
   "name": "python",
   "version": "3.9.7"
  },
  "orig_nbformat": 4
 },
 "nbformat": 4,
 "nbformat_minor": 2
}
