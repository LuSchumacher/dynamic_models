{
 "cells": [
  {
   "cell_type": "code",
   "execution_count": 1,
   "id": "comfortable-hunger",
   "metadata": {},
   "outputs": [],
   "source": [
    "import numpy as np\n",
    "import pandas as pd\n",
    "import tensorflow as tf\n",
    "import seaborn as sns\n",
    "from functools import partial\n",
    "import random as rand"
   ]
  },
  {
   "cell_type": "code",
   "execution_count": null,
   "id": "f451ab3e",
   "metadata": {},
   "outputs": [],
   "source": [
    "# gpu setting and checking\n",
    "physical_devices = tf.config.list_physical_devices('GPU')\n",
    "tf.config.experimental.set_memory_growth(physical_devices[0], enable=True)\n",
    "print(tf.config.list_physical_devices('GPU'))"
   ]
  },
  {
   "cell_type": "markdown",
   "id": "mathematical-vietnamese",
   "metadata": {},
   "source": [
    "# MMD Functions"
   ]
  },
  {
   "cell_type": "code",
   "execution_count": null,
   "id": "toxic-massage",
   "metadata": {
    "code_folding": [
     19,
     44,
     67
    ]
   },
   "outputs": [],
   "source": [
    "def maximum_mean_discrepancy(source_samples, target_samples, minimum=0., unbiased=False):\n",
    "    \"\"\" This Maximum Mean Discrepancy (MMD) loss is calculated with a number of different Gaussian kernels.\n",
    "\n",
    "    \"\"\"\n",
    "\n",
    "    sigmas = [\n",
    "        1e-6, 1e-5, 1e-4, 1e-3, 1e-2, 1e-1, 1, 5, 10, 15, 20, 25, 30, 35, 100,\n",
    "        1e3, 1e4, 1e5, 1e6\n",
    "    ]\n",
    "    gaussian_kernel = partial(_gaussian_kernel_matrix, sigmas=sigmas)\n",
    "    if unbiased:\n",
    "        loss_value = _mmd_kernel_unbiased(source_samples, target_samples, kernel=gaussian_kernel)\n",
    "    else:\n",
    "        loss_value = _mmd_kernel(source_samples, target_samples, kernel=gaussian_kernel)\n",
    "        \n",
    "        \n",
    "    loss_value = tf.maximum(minimum, loss_value) \n",
    "    return loss_value\n",
    "\n",
    "def _gaussian_kernel_matrix(x, y, sigmas):\n",
    "    \"\"\" Computes a Gaussian Radial Basis Kernel between the samples of x and y.\n",
    "\n",
    "    We create a sum of multiple gaussian kernels each having a width :math:`\\sigma_i`.\n",
    "\n",
    "    Parameters\n",
    "    ----------\n",
    "    x :  tf.Tensor of shape (M, num_features)\n",
    "    y :  tf.Tensor of shape (N, num_features)\n",
    "    sigmas : list(float)\n",
    "        List which denotes the widths of each of the gaussians in the kernel.\n",
    "\n",
    "    Returns\n",
    "    -------\n",
    "    kernel: tf.Tensor\n",
    "        RBF kernel of shape [num_samples{x}, num_samples{y}]\n",
    "    \"\"\"\n",
    "    def norm(v):\n",
    "        return tf.reduce_sum(tf.square(v), 1)\n",
    "    beta = 1. / (2. * (tf.expand_dims(sigmas, 1)))\n",
    "    dist = tf.transpose(norm(tf.expand_dims(x, 2) - tf.transpose(y)))\n",
    "    s = tf.matmul(beta, tf.reshape(dist, (1, -1)))\n",
    "    kernel = tf.reshape(tf.reduce_sum(tf.exp(-s), 0), tf.shape(dist))\n",
    "    return kernel\n",
    "\n",
    "def _mmd_kernel(x, y, kernel=_gaussian_kernel_matrix):\n",
    "    \"\"\" Computes the Maximum Mean Discrepancy (MMD) of two samples: x and y.\n",
    "\n",
    "    Maximum Mean Discrepancy (MMD) is a distance-measure between the samples of the distributions of x and y.\n",
    "\n",
    "    Parameters\n",
    "    ----------\n",
    "    x      : tf.Tensor of shape (num_samples, num_features)\n",
    "    y      : tf.Tensor of shape (num_samples, num_features)\n",
    "    kernel : callable, default: _gaussian_kernel_matrix\n",
    "        A function which computes the kernel in MMD.\n",
    "\n",
    "    Returns\n",
    "    -------\n",
    "    loss : tf.Tensor\n",
    "        squared maximum mean discrepancy loss, shape (,)\n",
    "    \"\"\"\n",
    "\n",
    "    loss = tf.reduce_mean(kernel(x, x))  # lint error: sigmas unfilled\n",
    "    loss += tf.reduce_mean(kernel(y, y))  # lint error: sigmas unfilled\n",
    "    loss -= 2 * tf.reduce_mean(kernel(x, y))  # lint error: sigmas unfilled\n",
    "    return loss\n",
    "\n",
    "def _mmd_kernel_unbiased(x, y, kernel=_gaussian_kernel_matrix):\n",
    "    \"\"\" Computes the Maximum Mean Discrepancy (MMD) of two samples: x and y.\n",
    "\n",
    "    Maximum Mean Discrepancy (MMD) is a distance-measure between the samples of the distributions of x and y.\n",
    "\n",
    "    Parameters\n",
    "    ----------\n",
    "    x      : tf.Tensor of shape (num_samples, num_features)\n",
    "    y      : tf.Tensor of shape (num_samples, num_features)\n",
    "    kernel : callable, default: _gaussian_kernel_matrix\n",
    "        A function which computes the kernel in MMD.\n",
    "\n",
    "    Returns\n",
    "    -------\n",
    "    loss : tf.Tensor\n",
    "        squared maximum mean discrepancy loss, shape (,)\n",
    "    \"\"\"\n",
    "    m, n = x.shape[0], y.shape[0]\n",
    "    loss = (1.0/(m*(m+1))) * tf.reduce_sum(kernel(x, x))  # lint error: sigmas unfilled\n",
    "    loss += (1.0/(n*(n+1))) * tf.reduce_sum(kernel(y, y))  # lint error: sigmas unfilled\n",
    "    loss -= (2.0/(m*n)) * tf.reduce_sum(kernel(x, y))  # lint error: sigmas unfilled\n",
    "    return loss"
   ]
  },
  {
   "cell_type": "code",
   "execution_count": null,
   "id": "revolutionary-extraction",
   "metadata": {
    "code_folding": []
   },
   "outputs": [],
   "source": [
    "def mmd_permutation(x, y, n_perm=1000, kernel=_gaussian_kernel_matrix, unbiased=False):\n",
    "    \"\"\"\n",
    "    Computes the p-value of the MMD by permuting the samples.\n",
    "    \"\"\"\n",
    "    \n",
    "    # Obtain sample sizes\n",
    "    m = int(x.shape[0])\n",
    "    n = int(y.shape[0])\n",
    "    xy = tf.concat((x, y), axis=0)\n",
    "    \n",
    "    # Prepare MMD\n",
    "    sigmas = [\n",
    "        1e-6, 1e-5, 1e-4, 1e-3, 1e-2, 1e-1, 1, 5, 10, 15, 20, 25, 30, 35, 100,\n",
    "        1e3, 1e4, 1e5, 1e6\n",
    "    ]\n",
    "    gaussian_kernel = partial(_gaussian_kernel_matrix, sigmas=sigmas)\n",
    "    mmd2_null = np.zeros(n_perm)\n",
    "    \n",
    "    # Run permutations\n",
    "    for i in range(n_perm):\n",
    "        idx = np.random.permutation(m+n)\n",
    "        xy = tf.gather(xy, idx, axis=0)\n",
    "        if unbiased:\n",
    "            mmd2 = _mmd_kernel_unbiased(xy[:m], xy[m:], kernel=gaussian_kernel)\n",
    "        else:\n",
    "            mmd2 = _mmd_kernel(xy[:m], xy[m:], kernel=gaussian_kernel)\n",
    "        mmd2_null[i] = mmd2\n",
    "    return mmd2_null"
   ]
  },
  {
   "cell_type": "markdown",
   "id": "forward-tomato",
   "metadata": {},
   "source": [
    "# Compute MMDs"
   ]
  },
  {
   "cell_type": "markdown",
   "id": "unlimited-speaker",
   "metadata": {},
   "source": [
    "## Extract Data"
   ]
  },
  {
   "cell_type": "code",
   "execution_count": null,
   "id": "productive-cloud",
   "metadata": {},
   "outputs": [],
   "source": [
    "pred_data_fast_dm = np.load(\"pred_data_fast_dm.npy\")\n",
    "pred_data_dynamic = np.load(\"pred_data_dynamic.npy\")\n",
    "emp_data = np.load(\"emp_data.npy\")"
   ]
  },
  {
   "cell_type": "markdown",
   "id": "unavailable-jones",
   "metadata": {},
   "source": [
    "## Compute Critical MMD and Permutation Test"
   ]
  },
  {
   "cell_type": "code",
   "execution_count": null,
   "id": "61758c2a",
   "metadata": {},
   "outputs": [],
   "source": [
    "# initialize data structures\n",
    "n_obs = emp_data.shape[0]\n",
    "n_sim = 50\n",
    "n_perm = 1000\n",
    "\n",
    "mmd_dynamic_emp = np.array((n_obs, n_sim), dtype=np.float32)\n",
    "mmd_dynamic_emp_perm = np.array((n_obs, n_sim, n_perm), dtype=np.float32)\n",
    "\n",
    "mmd_dynamic_fast = np.array((n_obs, n_sim), dtype=np.float32)\n",
    "mmd_dynamic_fast_perm = np.array((n_obs, n_sim, n_perm), dtype=np.float32)\n",
    "\n",
    "mmd_fast_emp = np.empty(n_obs, dtype=np.float32)\n",
    "mmd_fast_emp_perm = np.array((n_obs, n_perm), dtype=np.float32)"
   ]
  },
  {
   "cell_type": "code",
   "execution_count": null,
   "id": "24055495",
   "metadata": {},
   "outputs": [],
   "source": [
    "# iterate over persons\n",
    "for i in range(n_obs):\n",
    "    # subset person empirical data and fast-dm prediction\n",
    "    x_fast_dm = np.atleast_2d(pred_data_fast_dm[i]).T.astype(np.float32)\n",
    "    x_emp = np.atleast_2d(emp_data[i]).T.astype(np.float32)\n",
    "\n",
    "    # calculate mmd and permutation between emp and fast-dm\n",
    "    mmd_fast_emp[i] = maximum_mean_discrepancy(x_fast_dm, x_emp)\n",
    "    mmd_fast_emp_perm[i] = mmd_permutation(x_fast_dm, x_emp)\n",
    "\n",
    "    # select n_sim predictions of dynamic model\n",
    "    random_sets = np.array(rand.sample(range(pred_data_dynamic.shape[1]), n_sim))\n",
    "    for j in random_sets:\n",
    "        # subset prediction of dynamic model\n",
    "        x_dynamic = np.atleast_2d(pred_data_dynamic[i, j]).T.astype(np.float32)\n",
    "\n",
    "        # calculate mmd and permutation between dynamic and emp\n",
    "        mmd_dynamic_emp[i, j] = maximum_mean_discrepancy(x_dynamic, x_emp)\n",
    "        mmd_dynamic_emp_perm[i, j] = mmd_permutation(x_dynamic, x_emp)\n",
    "\n",
    "        # calculate mmd and permutation between dynamic and fast-dm\n",
    "        mmd_dynamic_fast[i, j] = maximum_mean_discrepancy(x_dynamic, x_fast_dm)\n",
    "        mmd_dynamic_fast_perm[i, j] = mmd_permutation(x_dynamic, x_fast_dm)"
   ]
  }
 ],
 "metadata": {
  "kernelspec": {
   "display_name": "Python 3 (ipykernel)",
   "language": "python",
   "name": "python3"
  },
  "language_info": {
   "codemirror_mode": {
    "name": "ipython",
    "version": 3
   },
   "file_extension": ".py",
   "mimetype": "text/x-python",
   "name": "python",
   "nbconvert_exporter": "python",
   "pygments_lexer": "ipython3",
   "version": "3.9.7"
  },
  "toc": {
   "base_numbering": 1,
   "nav_menu": {},
   "number_sections": true,
   "sideBar": true,
   "skip_h1_title": false,
   "title_cell": "Table of Contents",
   "title_sidebar": "Contents",
   "toc_cell": false,
   "toc_position": {},
   "toc_section_display": true,
   "toc_window_display": false
  }
 },
 "nbformat": 4,
 "nbformat_minor": 5
}
