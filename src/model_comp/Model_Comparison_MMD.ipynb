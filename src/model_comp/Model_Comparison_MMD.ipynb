{
 "cells": [
  {
   "cell_type": "code",
   "execution_count": 12,
   "id": "comfortable-hunger",
   "metadata": {},
   "outputs": [],
   "source": [
    "import numpy as np\n",
    "import pandas as pd\n",
    "import tensorflow as tf\n",
    "import seaborn as sns\n",
    "from functools import partial"
   ]
  },
  {
   "cell_type": "markdown",
   "id": "alpha-ranking",
   "metadata": {},
   "source": [
    "# Load Data"
   ]
  },
  {
   "cell_type": "code",
   "execution_count": 20,
   "id": "oriental-dispute",
   "metadata": {},
   "outputs": [],
   "source": [
    "data = pd.read_csv('../../data/model_comp_rt_pred.csv', sep=';', header=0)\n"
   ]
  },
  {
   "cell_type": "markdown",
   "id": "mathematical-vietnamese",
   "metadata": {},
   "source": [
    "# MMD Functions"
   ]
  },
  {
   "cell_type": "code",
   "execution_count": 21,
   "id": "toxic-massage",
   "metadata": {
    "code_folding": [
     19,
     44,
     67
    ]
   },
   "outputs": [],
   "source": [
    "def maximum_mean_discrepancy(source_samples, target_samples, minimum=0., unbiased=False):\n",
    "    \"\"\" This Maximum Mean Discrepancy (MMD) loss is calculated with a number of different Gaussian kernels.\n",
    "\n",
    "    \"\"\"\n",
    "\n",
    "    sigmas = [\n",
    "        1e-6, 1e-5, 1e-4, 1e-3, 1e-2, 1e-1, 1, 5, 10, 15, 20, 25, 30, 35, 100,\n",
    "        1e3, 1e4, 1e5, 1e6\n",
    "    ]\n",
    "    gaussian_kernel = partial(_gaussian_kernel_matrix, sigmas=sigmas)\n",
    "    if unbiased:\n",
    "        loss_value = _mmd_kernel_unbiased(source_samples, target_samples, kernel=gaussian_kernel)\n",
    "    else:\n",
    "        loss_value = _mmd_kernel(source_samples, target_samples, kernel=gaussian_kernel)\n",
    "        \n",
    "        \n",
    "    loss_value = tf.maximum(minimum, loss_value) \n",
    "    return loss_value\n",
    "\n",
    "def _gaussian_kernel_matrix(x, y, sigmas):\n",
    "    \"\"\" Computes a Gaussian Radial Basis Kernel between the samples of x and y.\n",
    "\n",
    "    We create a sum of multiple gaussian kernels each having a width :math:`\\sigma_i`.\n",
    "\n",
    "    Parameters\n",
    "    ----------\n",
    "    x :  tf.Tensor of shape (M, num_features)\n",
    "    y :  tf.Tensor of shape (N, num_features)\n",
    "    sigmas : list(float)\n",
    "        List which denotes the widths of each of the gaussians in the kernel.\n",
    "\n",
    "    Returns\n",
    "    -------\n",
    "    kernel: tf.Tensor\n",
    "        RBF kernel of shape [num_samples{x}, num_samples{y}]\n",
    "    \"\"\"\n",
    "    def norm(v):\n",
    "        return tf.reduce_sum(tf.square(v), 1)\n",
    "    beta = 1. / (2. * (tf.expand_dims(sigmas, 1)))\n",
    "    dist = tf.transpose(norm(tf.expand_dims(x, 2) - tf.transpose(y)))\n",
    "    s = tf.matmul(beta, tf.reshape(dist, (1, -1)))\n",
    "    kernel = tf.reshape(tf.reduce_sum(tf.exp(-s), 0), tf.shape(dist))\n",
    "    return kernel\n",
    "\n",
    "def _mmd_kernel(x, y, kernel=_gaussian_kernel_matrix):\n",
    "    \"\"\" Computes the Maximum Mean Discrepancy (MMD) of two samples: x and y.\n",
    "\n",
    "    Maximum Mean Discrepancy (MMD) is a distance-measure between the samples of the distributions of x and y.\n",
    "\n",
    "    Parameters\n",
    "    ----------\n",
    "    x      : tf.Tensor of shape (num_samples, num_features)\n",
    "    y      : tf.Tensor of shape (num_samples, num_features)\n",
    "    kernel : callable, default: _gaussian_kernel_matrix\n",
    "        A function which computes the kernel in MMD.\n",
    "\n",
    "    Returns\n",
    "    -------\n",
    "    loss : tf.Tensor\n",
    "        squared maximum mean discrepancy loss, shape (,)\n",
    "    \"\"\"\n",
    "\n",
    "    loss = tf.reduce_mean(kernel(x, x))  # lint error: sigmas unfilled\n",
    "    loss += tf.reduce_mean(kernel(y, y))  # lint error: sigmas unfilled\n",
    "    loss -= 2 * tf.reduce_mean(kernel(x, y))  # lint error: sigmas unfilled\n",
    "    return loss\n",
    "\n",
    "def _mmd_kernel_unbiased(x, y, kernel=_gaussian_kernel_matrix):\n",
    "    \"\"\" Computes the Maximum Mean Discrepancy (MMD) of two samples: x and y.\n",
    "\n",
    "    Maximum Mean Discrepancy (MMD) is a distance-measure between the samples of the distributions of x and y.\n",
    "\n",
    "    Parameters\n",
    "    ----------\n",
    "    x      : tf.Tensor of shape (num_samples, num_features)\n",
    "    y      : tf.Tensor of shape (num_samples, num_features)\n",
    "    kernel : callable, default: _gaussian_kernel_matrix\n",
    "        A function which computes the kernel in MMD.\n",
    "\n",
    "    Returns\n",
    "    -------\n",
    "    loss : tf.Tensor\n",
    "        squared maximum mean discrepancy loss, shape (,)\n",
    "    \"\"\"\n",
    "    m, n = x.shape[0], y.shape[0]\n",
    "    loss = (1.0/(m*(m+1))) * tf.reduce_sum(kernel(x, x))  # lint error: sigmas unfilled\n",
    "    loss += (1.0/(n*(n+1))) * tf.reduce_sum(kernel(y, y))  # lint error: sigmas unfilled\n",
    "    loss -= (2.0/(m*n)) * tf.reduce_sum(kernel(x, y))  # lint error: sigmas unfilled\n",
    "    return loss"
   ]
  },
  {
   "cell_type": "code",
   "execution_count": 22,
   "id": "revolutionary-extraction",
   "metadata": {
    "code_folding": []
   },
   "outputs": [],
   "source": [
    "def mmd_permutation(x, y, n_perm=1000, kernel=_gaussian_kernel_matrix, unbiased=False):\n",
    "    \"\"\"\n",
    "    Computes the p-value of the MMD by permuting the samples.\n",
    "    \"\"\"\n",
    "    \n",
    "    # Obtain sample sizes\n",
    "    m = int(x.shape[0])\n",
    "    n = int(y.shape[0])\n",
    "    xy = tf.concat((x, y), axis=0)\n",
    "    \n",
    "    # Prepare MMD\n",
    "    sigmas = [\n",
    "        1e-6, 1e-5, 1e-4, 1e-3, 1e-2, 1e-1, 1, 5, 10, 15, 20, 25, 30, 35, 100,\n",
    "        1e3, 1e4, 1e5, 1e6\n",
    "    ]\n",
    "    gaussian_kernel = partial(_gaussian_kernel_matrix, sigmas=sigmas)\n",
    "    mmd2_null = np.zeros(n_perm)\n",
    "    \n",
    "    # Run permutations\n",
    "    for i in range(n_perm):\n",
    "        idx = np.random.permutation(m+n)\n",
    "        xy = tf.gather(xy, idx, axis=0)\n",
    "        if unbiased:\n",
    "            mmd2 = _mmd_kernel_unbiased(xy[:m], xy[m:], kernel=gaussian_kernel)\n",
    "        else:\n",
    "            mmd2 = _mmd_kernel(xy[:m], xy[m:], kernel=gaussian_kernel)\n",
    "        mmd2_null[i] = mmd2\n",
    "    return mmd2_null"
   ]
  },
  {
   "cell_type": "markdown",
   "id": "forward-tomato",
   "metadata": {},
   "source": [
    "# Compute MMDs"
   ]
  },
  {
   "cell_type": "markdown",
   "id": "unlimited-speaker",
   "metadata": {},
   "source": [
    "## Extract Data"
   ]
  },
  {
   "cell_type": "code",
   "execution_count": 19,
   "id": "productive-cloud",
   "metadata": {},
   "outputs": [],
   "source": [
    "x_dm = np.atleast_2d(data['rt_fast_dm'].values).T.astype(np.float32)\n",
    "x_bf = np.atleast_2d(data['rt_dynamic'].values).T.astype(np.float32)\n",
    "x_em = np.atleast_2d(data['rt_empiric'].values).T.astype(np.float32)"
   ]
  },
  {
   "cell_type": "markdown",
   "id": "unavailable-jones",
   "metadata": {},
   "source": [
    "## Compute Critical MMD and Permutation Test"
   ]
  },
  {
   "cell_type": "code",
   "execution_count": 23,
   "id": "activated-hayes",
   "metadata": {},
   "outputs": [
    {
     "ename": "KeyboardInterrupt",
     "evalue": "",
     "output_type": "error",
     "traceback": [
      "\u001b[0;31m---------------------------------------------------------------------------\u001b[0m",
      "\u001b[0;31mKeyboardInterrupt\u001b[0m                         Traceback (most recent call last)",
      "\u001b[0;32m/var/folders/cd/lsff0c7s4fn3mb649wt67m200000gn/T/ipykernel_13314/2492001090.py\u001b[0m in \u001b[0;36m<module>\u001b[0;34m\u001b[0m\n\u001b[1;32m      1\u001b[0m \u001b[0mmmd_dm_em\u001b[0m \u001b[0;34m=\u001b[0m \u001b[0mmaximum_mean_discrepancy\u001b[0m\u001b[0;34m(\u001b[0m\u001b[0mx_dm\u001b[0m\u001b[0;34m,\u001b[0m \u001b[0mx_em\u001b[0m\u001b[0;34m)\u001b[0m\u001b[0;34m\u001b[0m\u001b[0;34m\u001b[0m\u001b[0m\n\u001b[0;32m----> 2\u001b[0;31m \u001b[0mmmd_dm_em_p\u001b[0m \u001b[0;34m=\u001b[0m \u001b[0mmmd_permutation\u001b[0m\u001b[0;34m(\u001b[0m\u001b[0mx_dm\u001b[0m\u001b[0;34m,\u001b[0m \u001b[0mx_em\u001b[0m\u001b[0;34m)\u001b[0m\u001b[0;34m\u001b[0m\u001b[0;34m\u001b[0m\u001b[0m\n\u001b[0m",
      "\u001b[0;32m/var/folders/cd/lsff0c7s4fn3mb649wt67m200000gn/T/ipykernel_13314/2240224605.py\u001b[0m in \u001b[0;36mmmd_permutation\u001b[0;34m(x, y, n_perm, kernel, unbiased)\u001b[0m\n\u001b[1;32m     24\u001b[0m             \u001b[0mmmd2\u001b[0m \u001b[0;34m=\u001b[0m \u001b[0m_mmd_kernel_unbiased\u001b[0m\u001b[0;34m(\u001b[0m\u001b[0mxy\u001b[0m\u001b[0;34m[\u001b[0m\u001b[0;34m:\u001b[0m\u001b[0mm\u001b[0m\u001b[0;34m]\u001b[0m\u001b[0;34m,\u001b[0m \u001b[0mxy\u001b[0m\u001b[0;34m[\u001b[0m\u001b[0mm\u001b[0m\u001b[0;34m:\u001b[0m\u001b[0;34m]\u001b[0m\u001b[0;34m,\u001b[0m \u001b[0mkernel\u001b[0m\u001b[0;34m=\u001b[0m\u001b[0mgaussian_kernel\u001b[0m\u001b[0;34m)\u001b[0m\u001b[0;34m\u001b[0m\u001b[0;34m\u001b[0m\u001b[0m\n\u001b[1;32m     25\u001b[0m         \u001b[0;32melse\u001b[0m\u001b[0;34m:\u001b[0m\u001b[0;34m\u001b[0m\u001b[0;34m\u001b[0m\u001b[0m\n\u001b[0;32m---> 26\u001b[0;31m             \u001b[0mmmd2\u001b[0m \u001b[0;34m=\u001b[0m \u001b[0m_mmd_kernel\u001b[0m\u001b[0;34m(\u001b[0m\u001b[0mxy\u001b[0m\u001b[0;34m[\u001b[0m\u001b[0;34m:\u001b[0m\u001b[0mm\u001b[0m\u001b[0;34m]\u001b[0m\u001b[0;34m,\u001b[0m \u001b[0mxy\u001b[0m\u001b[0;34m[\u001b[0m\u001b[0mm\u001b[0m\u001b[0;34m:\u001b[0m\u001b[0;34m]\u001b[0m\u001b[0;34m,\u001b[0m \u001b[0mkernel\u001b[0m\u001b[0;34m=\u001b[0m\u001b[0mgaussian_kernel\u001b[0m\u001b[0;34m)\u001b[0m\u001b[0;34m\u001b[0m\u001b[0;34m\u001b[0m\u001b[0m\n\u001b[0m\u001b[1;32m     27\u001b[0m         \u001b[0mmmd2_null\u001b[0m\u001b[0;34m[\u001b[0m\u001b[0mi\u001b[0m\u001b[0;34m]\u001b[0m \u001b[0;34m=\u001b[0m \u001b[0mmmd2\u001b[0m\u001b[0;34m\u001b[0m\u001b[0;34m\u001b[0m\u001b[0m\n\u001b[1;32m     28\u001b[0m     \u001b[0;32mreturn\u001b[0m \u001b[0mmmd2_null\u001b[0m\u001b[0;34m\u001b[0m\u001b[0;34m\u001b[0m\u001b[0m\n",
      "\u001b[0;32m/var/folders/cd/lsff0c7s4fn3mb649wt67m200000gn/T/ipykernel_13314/2142738443.py\u001b[0m in \u001b[0;36m_mmd_kernel\u001b[0;34m(x, y, kernel)\u001b[0m\n\u001b[1;32m     63\u001b[0m     \u001b[0mloss\u001b[0m \u001b[0;34m=\u001b[0m \u001b[0mtf\u001b[0m\u001b[0;34m.\u001b[0m\u001b[0mreduce_mean\u001b[0m\u001b[0;34m(\u001b[0m\u001b[0mkernel\u001b[0m\u001b[0;34m(\u001b[0m\u001b[0mx\u001b[0m\u001b[0;34m,\u001b[0m \u001b[0mx\u001b[0m\u001b[0;34m)\u001b[0m\u001b[0;34m)\u001b[0m  \u001b[0;31m# lint error: sigmas unfilled\u001b[0m\u001b[0;34m\u001b[0m\u001b[0;34m\u001b[0m\u001b[0m\n\u001b[1;32m     64\u001b[0m     \u001b[0mloss\u001b[0m \u001b[0;34m+=\u001b[0m \u001b[0mtf\u001b[0m\u001b[0;34m.\u001b[0m\u001b[0mreduce_mean\u001b[0m\u001b[0;34m(\u001b[0m\u001b[0mkernel\u001b[0m\u001b[0;34m(\u001b[0m\u001b[0my\u001b[0m\u001b[0;34m,\u001b[0m \u001b[0my\u001b[0m\u001b[0;34m)\u001b[0m\u001b[0;34m)\u001b[0m  \u001b[0;31m# lint error: sigmas unfilled\u001b[0m\u001b[0;34m\u001b[0m\u001b[0;34m\u001b[0m\u001b[0m\n\u001b[0;32m---> 65\u001b[0;31m     \u001b[0mloss\u001b[0m \u001b[0;34m-=\u001b[0m \u001b[0;36m2\u001b[0m \u001b[0;34m*\u001b[0m \u001b[0mtf\u001b[0m\u001b[0;34m.\u001b[0m\u001b[0mreduce_mean\u001b[0m\u001b[0;34m(\u001b[0m\u001b[0mkernel\u001b[0m\u001b[0;34m(\u001b[0m\u001b[0mx\u001b[0m\u001b[0;34m,\u001b[0m \u001b[0my\u001b[0m\u001b[0;34m)\u001b[0m\u001b[0;34m)\u001b[0m  \u001b[0;31m# lint error: sigmas unfilled\u001b[0m\u001b[0;34m\u001b[0m\u001b[0;34m\u001b[0m\u001b[0m\n\u001b[0m\u001b[1;32m     66\u001b[0m     \u001b[0;32mreturn\u001b[0m \u001b[0mloss\u001b[0m\u001b[0;34m\u001b[0m\u001b[0;34m\u001b[0m\u001b[0m\n\u001b[1;32m     67\u001b[0m \u001b[0;34m\u001b[0m\u001b[0m\n",
      "\u001b[0;32m/var/folders/cd/lsff0c7s4fn3mb649wt67m200000gn/T/ipykernel_13314/2142738443.py\u001b[0m in \u001b[0;36m_gaussian_kernel_matrix\u001b[0;34m(x, y, sigmas)\u001b[0m\n\u001b[1;32m     40\u001b[0m     \u001b[0mdist\u001b[0m \u001b[0;34m=\u001b[0m \u001b[0mtf\u001b[0m\u001b[0;34m.\u001b[0m\u001b[0mtranspose\u001b[0m\u001b[0;34m(\u001b[0m\u001b[0mnorm\u001b[0m\u001b[0;34m(\u001b[0m\u001b[0mtf\u001b[0m\u001b[0;34m.\u001b[0m\u001b[0mexpand_dims\u001b[0m\u001b[0;34m(\u001b[0m\u001b[0mx\u001b[0m\u001b[0;34m,\u001b[0m \u001b[0;36m2\u001b[0m\u001b[0;34m)\u001b[0m \u001b[0;34m-\u001b[0m \u001b[0mtf\u001b[0m\u001b[0;34m.\u001b[0m\u001b[0mtranspose\u001b[0m\u001b[0;34m(\u001b[0m\u001b[0my\u001b[0m\u001b[0;34m)\u001b[0m\u001b[0;34m)\u001b[0m\u001b[0;34m)\u001b[0m\u001b[0;34m\u001b[0m\u001b[0;34m\u001b[0m\u001b[0m\n\u001b[1;32m     41\u001b[0m     \u001b[0ms\u001b[0m \u001b[0;34m=\u001b[0m \u001b[0mtf\u001b[0m\u001b[0;34m.\u001b[0m\u001b[0mmatmul\u001b[0m\u001b[0;34m(\u001b[0m\u001b[0mbeta\u001b[0m\u001b[0;34m,\u001b[0m \u001b[0mtf\u001b[0m\u001b[0;34m.\u001b[0m\u001b[0mreshape\u001b[0m\u001b[0;34m(\u001b[0m\u001b[0mdist\u001b[0m\u001b[0;34m,\u001b[0m \u001b[0;34m(\u001b[0m\u001b[0;36m1\u001b[0m\u001b[0;34m,\u001b[0m \u001b[0;34m-\u001b[0m\u001b[0;36m1\u001b[0m\u001b[0;34m)\u001b[0m\u001b[0;34m)\u001b[0m\u001b[0;34m)\u001b[0m\u001b[0;34m\u001b[0m\u001b[0;34m\u001b[0m\u001b[0m\n\u001b[0;32m---> 42\u001b[0;31m     \u001b[0mkernel\u001b[0m \u001b[0;34m=\u001b[0m \u001b[0mtf\u001b[0m\u001b[0;34m.\u001b[0m\u001b[0mreshape\u001b[0m\u001b[0;34m(\u001b[0m\u001b[0mtf\u001b[0m\u001b[0;34m.\u001b[0m\u001b[0mreduce_sum\u001b[0m\u001b[0;34m(\u001b[0m\u001b[0mtf\u001b[0m\u001b[0;34m.\u001b[0m\u001b[0mexp\u001b[0m\u001b[0;34m(\u001b[0m\u001b[0;34m-\u001b[0m\u001b[0ms\u001b[0m\u001b[0;34m)\u001b[0m\u001b[0;34m,\u001b[0m \u001b[0;36m0\u001b[0m\u001b[0;34m)\u001b[0m\u001b[0;34m,\u001b[0m \u001b[0mtf\u001b[0m\u001b[0;34m.\u001b[0m\u001b[0mshape\u001b[0m\u001b[0;34m(\u001b[0m\u001b[0mdist\u001b[0m\u001b[0;34m)\u001b[0m\u001b[0;34m)\u001b[0m\u001b[0;34m\u001b[0m\u001b[0;34m\u001b[0m\u001b[0m\n\u001b[0m\u001b[1;32m     43\u001b[0m     \u001b[0;32mreturn\u001b[0m \u001b[0mkernel\u001b[0m\u001b[0;34m\u001b[0m\u001b[0;34m\u001b[0m\u001b[0m\n\u001b[1;32m     44\u001b[0m \u001b[0;34m\u001b[0m\u001b[0m\n",
      "\u001b[0;32m/opt/anaconda3/envs/cognitiveModeling/lib/python3.9/site-packages/tensorflow/python/util/traceback_utils.py\u001b[0m in \u001b[0;36merror_handler\u001b[0;34m(*args, **kwargs)\u001b[0m\n\u001b[1;32m    148\u001b[0m     \u001b[0mfiltered_tb\u001b[0m \u001b[0;34m=\u001b[0m \u001b[0;32mNone\u001b[0m\u001b[0;34m\u001b[0m\u001b[0;34m\u001b[0m\u001b[0m\n\u001b[1;32m    149\u001b[0m     \u001b[0;32mtry\u001b[0m\u001b[0;34m:\u001b[0m\u001b[0;34m\u001b[0m\u001b[0;34m\u001b[0m\u001b[0m\n\u001b[0;32m--> 150\u001b[0;31m       \u001b[0;32mreturn\u001b[0m \u001b[0mfn\u001b[0m\u001b[0;34m(\u001b[0m\u001b[0;34m*\u001b[0m\u001b[0margs\u001b[0m\u001b[0;34m,\u001b[0m \u001b[0;34m**\u001b[0m\u001b[0mkwargs\u001b[0m\u001b[0;34m)\u001b[0m\u001b[0;34m\u001b[0m\u001b[0;34m\u001b[0m\u001b[0m\n\u001b[0m\u001b[1;32m    151\u001b[0m     \u001b[0;32mexcept\u001b[0m \u001b[0mException\u001b[0m \u001b[0;32mas\u001b[0m \u001b[0me\u001b[0m\u001b[0;34m:\u001b[0m\u001b[0;34m\u001b[0m\u001b[0;34m\u001b[0m\u001b[0m\n\u001b[1;32m    152\u001b[0m       \u001b[0mfiltered_tb\u001b[0m \u001b[0;34m=\u001b[0m \u001b[0m_process_traceback_frames\u001b[0m\u001b[0;34m(\u001b[0m\u001b[0me\u001b[0m\u001b[0;34m.\u001b[0m\u001b[0m__traceback__\u001b[0m\u001b[0;34m)\u001b[0m\u001b[0;34m\u001b[0m\u001b[0;34m\u001b[0m\u001b[0m\n",
      "\u001b[0;32m/opt/anaconda3/envs/cognitiveModeling/lib/python3.9/site-packages/tensorflow/python/util/dispatch.py\u001b[0m in \u001b[0;36mop_dispatch_handler\u001b[0;34m(*args, **kwargs)\u001b[0m\n\u001b[1;32m   1094\u001b[0m       \u001b[0;31m# Fallback dispatch system (dispatch v1):\u001b[0m\u001b[0;34m\u001b[0m\u001b[0;34m\u001b[0m\u001b[0m\n\u001b[1;32m   1095\u001b[0m       \u001b[0;32mtry\u001b[0m\u001b[0;34m:\u001b[0m\u001b[0;34m\u001b[0m\u001b[0;34m\u001b[0m\u001b[0m\n\u001b[0;32m-> 1096\u001b[0;31m         \u001b[0;32mreturn\u001b[0m \u001b[0mdispatch_target\u001b[0m\u001b[0;34m(\u001b[0m\u001b[0;34m*\u001b[0m\u001b[0margs\u001b[0m\u001b[0;34m,\u001b[0m \u001b[0;34m**\u001b[0m\u001b[0mkwargs\u001b[0m\u001b[0;34m)\u001b[0m\u001b[0;34m\u001b[0m\u001b[0;34m\u001b[0m\u001b[0m\n\u001b[0m\u001b[1;32m   1097\u001b[0m       \u001b[0;32mexcept\u001b[0m \u001b[0;34m(\u001b[0m\u001b[0mTypeError\u001b[0m\u001b[0;34m,\u001b[0m \u001b[0mValueError\u001b[0m\u001b[0;34m)\u001b[0m\u001b[0;34m:\u001b[0m\u001b[0;34m\u001b[0m\u001b[0;34m\u001b[0m\u001b[0m\n\u001b[1;32m   1098\u001b[0m         \u001b[0;31m# Note: convert_to_eager_tensor currently raises a ValueError, not a\u001b[0m\u001b[0;34m\u001b[0m\u001b[0;34m\u001b[0m\u001b[0m\n",
      "\u001b[0;32m/opt/anaconda3/envs/cognitiveModeling/lib/python3.9/site-packages/tensorflow/python/ops/math_ops.py\u001b[0m in \u001b[0;36mexp\u001b[0;34m(x, name)\u001b[0m\n\u001b[1;32m   5427\u001b[0m   \u001b[0;34m@\u001b[0m\u001b[0mend_compatibility\u001b[0m\u001b[0;34m\u001b[0m\u001b[0;34m\u001b[0m\u001b[0m\n\u001b[1;32m   5428\u001b[0m   \"\"\"\n\u001b[0;32m-> 5429\u001b[0;31m   \u001b[0;32mreturn\u001b[0m \u001b[0mgen_math_ops\u001b[0m\u001b[0;34m.\u001b[0m\u001b[0mexp\u001b[0m\u001b[0;34m(\u001b[0m\u001b[0mx\u001b[0m\u001b[0;34m,\u001b[0m \u001b[0mname\u001b[0m\u001b[0;34m)\u001b[0m\u001b[0;34m\u001b[0m\u001b[0;34m\u001b[0m\u001b[0m\n\u001b[0m\u001b[1;32m   5430\u001b[0m \u001b[0;34m\u001b[0m\u001b[0m\n\u001b[1;32m   5431\u001b[0m \u001b[0;34m\u001b[0m\u001b[0m\n",
      "\u001b[0;32m/opt/anaconda3/envs/cognitiveModeling/lib/python3.9/site-packages/tensorflow/python/ops/gen_math_ops.py\u001b[0m in \u001b[0;36mexp\u001b[0;34m(x, name)\u001b[0m\n\u001b[1;32m   3693\u001b[0m   \u001b[0;32mif\u001b[0m \u001b[0mtld\u001b[0m\u001b[0;34m.\u001b[0m\u001b[0mis_eager\u001b[0m\u001b[0;34m:\u001b[0m\u001b[0;34m\u001b[0m\u001b[0;34m\u001b[0m\u001b[0m\n\u001b[1;32m   3694\u001b[0m     \u001b[0;32mtry\u001b[0m\u001b[0;34m:\u001b[0m\u001b[0;34m\u001b[0m\u001b[0;34m\u001b[0m\u001b[0m\n\u001b[0;32m-> 3695\u001b[0;31m       _result = pywrap_tfe.TFE_Py_FastPathExecute(\n\u001b[0m\u001b[1;32m   3696\u001b[0m         _ctx, \"Exp\", name, x)\n\u001b[1;32m   3697\u001b[0m       \u001b[0;32mreturn\u001b[0m \u001b[0m_result\u001b[0m\u001b[0;34m\u001b[0m\u001b[0;34m\u001b[0m\u001b[0m\n",
      "\u001b[0;31mKeyboardInterrupt\u001b[0m: "
     ]
    }
   ],
   "source": [
    "mmd_dm_em = maximum_mean_discrepancy(x_dm, x_em)\n",
    "mmd_dm_em_p = mmd_permutation(x_dm, x_em)"
   ]
  },
  {
   "cell_type": "code",
   "execution_count": 41,
   "id": "freelance-titanium",
   "metadata": {},
   "outputs": [
    {
     "data": {
      "text/plain": [
       "<tf.Tensor: shape=(), dtype=float32, numpy=0.013235092>"
      ]
     },
     "execution_count": 41,
     "metadata": {},
     "output_type": "execute_result"
    }
   ],
   "source": [
    "mmd_bf_em = maximum_mean_discrepancy(x_bf, x_em)\n",
    "mmd_bf_em_p = mmd_permutation(x_bf, x_em)"
   ]
  },
  {
   "cell_type": "code",
   "execution_count": 42,
   "id": "lesser-installation",
   "metadata": {},
   "outputs": [
    {
     "data": {
      "text/plain": [
       "<tf.Tensor: shape=(), dtype=float32, numpy=0.015806198>"
      ]
     },
     "execution_count": 42,
     "metadata": {},
     "output_type": "execute_result"
    }
   ],
   "source": [
    "mmd_bf_dm = maximum_mean_discrepancy(x_bf, x_dm)\n",
    "mmd_bf_dm_p = mmd_permutation(x_bf, x_dm)"
   ]
  },
  {
   "cell_type": "code",
   "execution_count": 3,
   "id": "b21a9e30",
   "metadata": {},
   "outputs": [],
   "source": [
    "# read data\n",
    "pred_data_fast_dm = np.load(\"pred_data_fast_dm.npy\")\n",
    "pred_data_dynamic = np.load(\"pred_data_dynamic.npy\")\n",
    "emp_data = np.load(\"emp_data.npy\")"
   ]
  },
  {
   "cell_type": "code",
   "execution_count": 4,
   "id": "54683e2f",
   "metadata": {},
   "outputs": [
    {
     "data": {
      "text/plain": [
       "(11, 3200)"
      ]
     },
     "execution_count": 4,
     "metadata": {},
     "output_type": "execute_result"
    }
   ],
   "source": [
    "pred_data_fast_dm.shape"
   ]
  },
  {
   "cell_type": "code",
   "execution_count": 5,
   "id": "4cd0696b",
   "metadata": {},
   "outputs": [
    {
     "data": {
      "text/plain": [
       "(11, 1000, 3200)"
      ]
     },
     "execution_count": 5,
     "metadata": {},
     "output_type": "execute_result"
    }
   ],
   "source": [
    "pred_data_dynamic.shape"
   ]
  },
  {
   "cell_type": "code",
   "execution_count": 10,
   "id": "778f2d1c",
   "metadata": {},
   "outputs": [
    {
     "data": {
      "text/plain": [
       "(35200000,)"
      ]
     },
     "execution_count": 10,
     "metadata": {},
     "output_type": "execute_result"
    }
   ],
   "source": [
    "np.atleast_2d(pred_data_dynamic).astype(np.float32).flatten()"
   ]
  },
  {
   "cell_type": "code",
   "execution_count": null,
   "id": "original-pastor",
   "metadata": {},
   "outputs": [],
   "source": [
    "# iterate over persons\n",
    "for i in range(len(np.unique(data.id))):\n",
    "    x_dm = np.atleast_2d(data['rt_fast_dm'].values).T.astype(np.float32)\n",
    "    x_bf = np.atleast_2d(data['rt_dynamic'].values).T.astype(np.float32)\n",
    "    x_em = np.atleast_2d(data['rt_empiric'].values).T.astype(np.float32)"
   ]
  }
 ],
 "metadata": {
  "kernelspec": {
   "display_name": "Python 3",
   "language": "python",
   "name": "python3"
  },
  "language_info": {
   "codemirror_mode": {
    "name": "ipython",
    "version": 3
   },
   "file_extension": ".py",
   "mimetype": "text/x-python",
   "name": "python",
   "nbconvert_exporter": "python",
   "pygments_lexer": "ipython3",
   "version": "3.9.7"
  },
  "toc": {
   "base_numbering": 1,
   "nav_menu": {},
   "number_sections": true,
   "sideBar": true,
   "skip_h1_title": false,
   "title_cell": "Table of Contents",
   "title_sidebar": "Contents",
   "toc_cell": false,
   "toc_position": {},
   "toc_section_display": true,
   "toc_window_display": false
  }
 },
 "nbformat": 4,
 "nbformat_minor": 5
}
