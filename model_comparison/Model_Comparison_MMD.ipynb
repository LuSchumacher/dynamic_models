{
 "cells": [
  {
   "cell_type": "code",
   "execution_count": 2,
   "id": "comfortable-hunger",
   "metadata": {},
   "outputs": [],
   "source": [
    "import numpy as np\n",
    "import pandas as pd\n",
    "import tensorflow as tf\n",
    "import seaborn as sns\n",
    "from functools import partial\n",
    "import random as rand"
   ]
  },
  {
   "cell_type": "code",
   "execution_count": 3,
   "id": "f451ab3e",
   "metadata": {},
   "outputs": [
    {
     "ename": "IndexError",
     "evalue": "list index out of range",
     "output_type": "error",
     "traceback": [
      "\u001b[0;31m---------------------------------------------------------------------------\u001b[0m",
      "\u001b[0;31mIndexError\u001b[0m                                Traceback (most recent call last)",
      "\u001b[0;32m/var/folders/cd/lsff0c7s4fn3mb649wt67m200000gn/T/ipykernel_2596/1308667103.py\u001b[0m in \u001b[0;36m<module>\u001b[0;34m\u001b[0m\n\u001b[1;32m      1\u001b[0m \u001b[0;31m# gpu setting and checking\u001b[0m\u001b[0;34m\u001b[0m\u001b[0;34m\u001b[0m\u001b[0m\n\u001b[1;32m      2\u001b[0m \u001b[0mphysical_devices\u001b[0m \u001b[0;34m=\u001b[0m \u001b[0mtf\u001b[0m\u001b[0;34m.\u001b[0m\u001b[0mconfig\u001b[0m\u001b[0;34m.\u001b[0m\u001b[0mlist_physical_devices\u001b[0m\u001b[0;34m(\u001b[0m\u001b[0;34m'GPU'\u001b[0m\u001b[0;34m)\u001b[0m\u001b[0;34m\u001b[0m\u001b[0;34m\u001b[0m\u001b[0m\n\u001b[0;32m----> 3\u001b[0;31m \u001b[0mtf\u001b[0m\u001b[0;34m.\u001b[0m\u001b[0mconfig\u001b[0m\u001b[0;34m.\u001b[0m\u001b[0mexperimental\u001b[0m\u001b[0;34m.\u001b[0m\u001b[0mset_memory_growth\u001b[0m\u001b[0;34m(\u001b[0m\u001b[0mphysical_devices\u001b[0m\u001b[0;34m[\u001b[0m\u001b[0;36m0\u001b[0m\u001b[0;34m]\u001b[0m\u001b[0;34m,\u001b[0m \u001b[0menable\u001b[0m\u001b[0;34m=\u001b[0m\u001b[0;32mTrue\u001b[0m\u001b[0;34m)\u001b[0m\u001b[0;34m\u001b[0m\u001b[0;34m\u001b[0m\u001b[0m\n\u001b[0m\u001b[1;32m      4\u001b[0m \u001b[0mprint\u001b[0m\u001b[0;34m(\u001b[0m\u001b[0mtf\u001b[0m\u001b[0;34m.\u001b[0m\u001b[0mconfig\u001b[0m\u001b[0;34m.\u001b[0m\u001b[0mlist_physical_devices\u001b[0m\u001b[0;34m(\u001b[0m\u001b[0;34m'GPU'\u001b[0m\u001b[0;34m)\u001b[0m\u001b[0;34m)\u001b[0m\u001b[0;34m\u001b[0m\u001b[0;34m\u001b[0m\u001b[0m\n",
      "\u001b[0;31mIndexError\u001b[0m: list index out of range"
     ]
    }
   ],
   "source": [
    "# gpu setting and checking\n",
    "physical_devices = tf.config.list_physical_devices('GPU')\n",
    "tf.config.experimental.set_memory_growth(physical_devices[0], enable=True)\n",
    "print(tf.config.list_physical_devices('GPU'))"
   ]
  },
  {
   "cell_type": "markdown",
   "id": "mathematical-vietnamese",
   "metadata": {},
   "source": [
    "# MMD Functions"
   ]
  },
  {
   "cell_type": "code",
   "execution_count": 4,
   "id": "toxic-massage",
   "metadata": {
    "code_folding": [
     19,
     44,
     67
    ]
   },
   "outputs": [],
   "source": [
    "def maximum_mean_discrepancy(source_samples, target_samples, minimum=0., unbiased=False):\n",
    "    \"\"\" This Maximum Mean Discrepancy (MMD) loss is calculated with a number of different Gaussian kernels.\n",
    "\n",
    "    \"\"\"\n",
    "\n",
    "    sigmas = [\n",
    "        1e-6, 1e-5, 1e-4, 1e-3, 1e-2, 1e-1, 1, 5, 10, 15, 20, 25, 30, 35, 100,\n",
    "        1e3, 1e4, 1e5, 1e6\n",
    "    ]\n",
    "    gaussian_kernel = partial(_gaussian_kernel_matrix, sigmas=sigmas)\n",
    "    if unbiased:\n",
    "        loss_value = _mmd_kernel_unbiased(source_samples, target_samples, kernel=gaussian_kernel)\n",
    "    else:\n",
    "        loss_value = _mmd_kernel(source_samples, target_samples, kernel=gaussian_kernel)\n",
    "        \n",
    "        \n",
    "    loss_value = tf.maximum(minimum, loss_value) \n",
    "    return loss_value\n",
    "\n",
    "def _gaussian_kernel_matrix(x, y, sigmas):\n",
    "    \"\"\" Computes a Gaussian Radial Basis Kernel between the samples of x and y.\n",
    "\n",
    "    We create a sum of multiple gaussian kernels each having a width :math:`\\sigma_i`.\n",
    "\n",
    "    Parameters\n",
    "    ----------\n",
    "    x :  tf.Tensor of shape (M, num_features)\n",
    "    y :  tf.Tensor of shape (N, num_features)\n",
    "    sigmas : list(float)\n",
    "        List which denotes the widths of each of the gaussians in the kernel.\n",
    "\n",
    "    Returns\n",
    "    -------\n",
    "    kernel: tf.Tensor\n",
    "        RBF kernel of shape [num_samples{x}, num_samples{y}]\n",
    "    \"\"\"\n",
    "    def norm(v):\n",
    "        return tf.reduce_sum(tf.square(v), 1)\n",
    "    beta = 1. / (2. * (tf.expand_dims(sigmas, 1)))\n",
    "    dist = tf.transpose(norm(tf.expand_dims(x, 2) - tf.transpose(y)))\n",
    "    s = tf.matmul(beta, tf.reshape(dist, (1, -1)))\n",
    "    kernel = tf.reshape(tf.reduce_sum(tf.exp(-s), 0), tf.shape(dist))\n",
    "    return kernel\n",
    "\n",
    "def _mmd_kernel(x, y, kernel=_gaussian_kernel_matrix):\n",
    "    \"\"\" Computes the Maximum Mean Discrepancy (MMD) of two samples: x and y.\n",
    "\n",
    "    Maximum Mean Discrepancy (MMD) is a distance-measure between the samples of the distributions of x and y.\n",
    "\n",
    "    Parameters\n",
    "    ----------\n",
    "    x      : tf.Tensor of shape (num_samples, num_features)\n",
    "    y      : tf.Tensor of shape (num_samples, num_features)\n",
    "    kernel : callable, default: _gaussian_kernel_matrix\n",
    "        A function which computes the kernel in MMD.\n",
    "\n",
    "    Returns\n",
    "    -------\n",
    "    loss : tf.Tensor\n",
    "        squared maximum mean discrepancy loss, shape (,)\n",
    "    \"\"\"\n",
    "\n",
    "    loss = tf.reduce_mean(kernel(x, x))  # lint error: sigmas unfilled\n",
    "    loss += tf.reduce_mean(kernel(y, y))  # lint error: sigmas unfilled\n",
    "    loss -= 2 * tf.reduce_mean(kernel(x, y))  # lint error: sigmas unfilled\n",
    "    return loss\n",
    "\n",
    "def _mmd_kernel_unbiased(x, y, kernel=_gaussian_kernel_matrix):\n",
    "    \"\"\" Computes the Maximum Mean Discrepancy (MMD) of two samples: x and y.\n",
    "\n",
    "    Maximum Mean Discrepancy (MMD) is a distance-measure between the samples of the distributions of x and y.\n",
    "\n",
    "    Parameters\n",
    "    ----------\n",
    "    x      : tf.Tensor of shape (num_samples, num_features)\n",
    "    y      : tf.Tensor of shape (num_samples, num_features)\n",
    "    kernel : callable, default: _gaussian_kernel_matrix\n",
    "        A function which computes the kernel in MMD.\n",
    "\n",
    "    Returns\n",
    "    -------\n",
    "    loss : tf.Tensor\n",
    "        squared maximum mean discrepancy loss, shape (,)\n",
    "    \"\"\"\n",
    "    m, n = x.shape[0], y.shape[0]\n",
    "    loss = (1.0/(m*(m+1))) * tf.reduce_sum(kernel(x, x))  # lint error: sigmas unfilled\n",
    "    loss += (1.0/(n*(n+1))) * tf.reduce_sum(kernel(y, y))  # lint error: sigmas unfilled\n",
    "    loss -= (2.0/(m*n)) * tf.reduce_sum(kernel(x, y))  # lint error: sigmas unfilled\n",
    "    return loss"
   ]
  },
  {
   "cell_type": "code",
   "execution_count": 5,
   "id": "revolutionary-extraction",
   "metadata": {
    "code_folding": []
   },
   "outputs": [],
   "source": [
    "def mmd_permutation(x, y, n_perm=1000, kernel=_gaussian_kernel_matrix, unbiased=False):\n",
    "    \"\"\"\n",
    "    Computes the p-value of the MMD by permuting the samples.\n",
    "    \"\"\"\n",
    "    \n",
    "    # Obtain sample sizes\n",
    "    m = int(x.shape[0])\n",
    "    n = int(y.shape[0])\n",
    "    xy = tf.concat((x, y), axis=0)\n",
    "    \n",
    "    # Prepare MMD\n",
    "    sigmas = [\n",
    "        1e-6, 1e-5, 1e-4, 1e-3, 1e-2, 1e-1, 1, 5, 10, 15, 20, 25, 30, 35, 100,\n",
    "        1e3, 1e4, 1e5, 1e6\n",
    "    ]\n",
    "    gaussian_kernel = partial(_gaussian_kernel_matrix, sigmas=sigmas)\n",
    "    mmd2_null = np.zeros(n_perm)\n",
    "    \n",
    "    # Run permutations\n",
    "    for i in range(n_perm):\n",
    "        idx = np.random.permutation(m+n)\n",
    "        xy = tf.gather(xy, idx, axis=0)\n",
    "        if unbiased:\n",
    "            mmd2 = _mmd_kernel_unbiased(xy[:m], xy[m:], kernel=gaussian_kernel)\n",
    "        else:\n",
    "            mmd2 = _mmd_kernel(xy[:m], xy[m:], kernel=gaussian_kernel)\n",
    "        mmd2_null[i] = mmd2\n",
    "    return mmd2_null"
   ]
  },
  {
   "cell_type": "markdown",
   "id": "forward-tomato",
   "metadata": {},
   "source": [
    "# Compute MMDs"
   ]
  },
  {
   "cell_type": "markdown",
   "id": "unlimited-speaker",
   "metadata": {},
   "source": [
    "## Extract Data"
   ]
  },
  {
   "cell_type": "code",
   "execution_count": 6,
   "id": "productive-cloud",
   "metadata": {},
   "outputs": [],
   "source": [
    "pred_data_fast_dm = np.load(\"pred_data_fast_dm.npy\")\n",
    "pred_data_dynamic = np.load(\"pred_data_dynamic.npy\")\n",
    "emp_data = np.load(\"emp_data.npy\")"
   ]
  },
  {
   "cell_type": "code",
   "execution_count": 8,
   "id": "e427a43e",
   "metadata": {},
   "outputs": [
    {
     "data": {
      "text/plain": [
       "(11, 3200)"
      ]
     },
     "execution_count": 8,
     "metadata": {},
     "output_type": "execute_result"
    }
   ],
   "source": [
    "pred_data_dynamic.shape\n",
    "pred_data_fast_dm.shape"
   ]
  },
  {
   "cell_type": "markdown",
   "id": "unavailable-jones",
   "metadata": {},
   "source": [
    "## Compute Critical MMD and Permutation Test"
   ]
  },
  {
   "cell_type": "code",
   "execution_count": null,
   "id": "699f8576",
   "metadata": {},
   "outputs": [],
   "source": [
    "# DON'T FORGET THE FUCKING NAN FROM SUBJECT 5!!!"
   ]
  },
  {
   "cell_type": "code",
   "execution_count": 9,
   "id": "61758c2a",
   "metadata": {},
   "outputs": [],
   "source": [
    "# initialize data structures\n",
    "n_obs = emp_data.shape[0]\n",
    "n_sim = 1\n",
    "n_perm = 1000\n",
    "\n",
    "mmd_dynamic_emp = np.empty((n_obs, n_sim), dtype=np.float32)\n",
    "mmd_dynamic_emp_perm = np.empty((n_obs, n_sim, n_perm), dtype=np.float32)\n",
    "\n",
    "mmd_dynamic_fast = np.empty((n_obs, n_sim), dtype=np.float32)\n",
    "mmd_dynamic_fast_perm = np.empty((n_obs, n_sim, n_perm), dtype=np.float32)\n",
    "\n",
    "mmd_fast_emp = np.empty(n_obs, dtype=np.float32)\n",
    "mmd_fast_emp_perm = np.empty((n_obs, n_perm), dtype=np.float32)"
   ]
  },
  {
   "cell_type": "code",
   "execution_count": 10,
   "id": "24055495",
   "metadata": {},
   "outputs": [
    {
     "name": "stdout",
     "output_type": "stream",
     "text": [
      "0\n",
      "1\n",
      "2\n",
      "3\n",
      "4\n",
      "5\n",
      "6\n",
      "7\n",
      "8\n",
      "9\n",
      "10\n"
     ]
    }
   ],
   "source": [
    "# iterate over persons\n",
    "for i in range(n_obs):\n",
    "    # subset person empirical data and fast-dm prediction\n",
    "    x_fast_dm = np.atleast_2d(pred_data_fast_dm[i]).T.astype(np.float32)\n",
    "    x_emp = np.atleast_2d(emp_data[i]).T.astype(np.float32)\n",
    "\n",
    "    # calculate mmd and permutation between emp and fast-dm\n",
    "    mmd_fast_emp[i] = maximum_mean_discrepancy(x_fast_dm, x_emp)\n",
    "    # mmd_fast_emp_perm[i] = mmd_permutation(x_fast_dm, x_emp)\n",
    "\n",
    "    # select n_sim predictions of dynamic model\n",
    "    random_sets = np.array(rand.sample(range(pred_data_dynamic.shape[1]), n_sim))\n",
    "    for j in range(n_sim):\n",
    "        # subset prediction of dynamic model\n",
    "        x_dynamic = np.atleast_2d(pred_data_dynamic[i, random_sets[j]]).T.astype(np.float32)\n",
    "\n",
    "        # calculate mmd and permutation between dynamic and emp\n",
    "        mmd_dynamic_emp[i, j] = maximum_mean_discrepancy(x_dynamic, x_emp)\n",
    "        # mmd_dynamic_emp_perm[i, j] = mmd_permutation(x_dynamic, x_emp)\n",
    "\n",
    "        # calculate mmd and permutation between dynamic and fast-dm\n",
    "        mmd_dynamic_fast[i, j] = maximum_mean_discrepancy(x_dynamic, x_fast_dm)\n",
    "        # mmd_dynamic_fast_perm[i, j] = mmd_permutation(x_dynamic, x_fast_dm)\n",
    "        \n",
    "    print(i)"
   ]
  },
  {
   "cell_type": "code",
   "execution_count": null,
   "id": "9293b670",
   "metadata": {},
   "outputs": [],
   "source": [
    "# np.save('mmd_dynamic_emp.npy', mmd_dynamic_emp)\n",
    "# np.save('mmd_dynamic_emp_perm.npy', mmd_dynamic_emp_perm)\n",
    "# np.save('mmd_dynamic_fast.npy', mmd_dynamic_fast)\n",
    "# np.save('mmd_dynamic_fast_perm.npy', mmd_dynamic_fast_perm)\n",
    "# np.save('mmd_fast_emp.npy', mmd_fast_emp)\n",
    "# np.save('mmd_fast_emp_perm.npy', mmd_fast_emp_perm)"
   ]
  },
  {
   "cell_type": "code",
   "execution_count": 12,
   "id": "fd9ed1a9",
   "metadata": {},
   "outputs": [],
   "source": [
    "# # subset person empirical data and fast-dm prediction\n",
    "x_fast_dm = np.atleast_2d(pred_data_fast_dm[4]).T.astype(np.float32)\n",
    "x_emp = np.atleast_2d(emp_data[4]).T.astype(np.float32)\n",
    "\n",
    "x_emp[1680] = np.nanmean(x_emp)"
   ]
  },
  {
   "cell_type": "code",
   "execution_count": 13,
   "id": "a2a1cc44",
   "metadata": {},
   "outputs": [],
   "source": [
    "# # calculate mmd and permutation between emp and fast-dm\n",
    "mmd_fast_emp[4] = maximum_mean_discrepancy(x_fast_dm, x_emp)\n",
    "# mmd_fast_emp_perm[4] = mmd_permutation(x_fast_dm, x_emp)\n",
    "\n",
    "# select n_sim predictions of dynamic model\n",
    "random_sets = np.array(rand.sample(range(pred_data_dynamic.shape[1]), n_sim))\n",
    "for j in range(n_sim):\n",
    "    # subset prediction of dynamic model\n",
    "    x_dynamic = np.atleast_2d(pred_data_dynamic[4, random_sets[j]]).T.astype(np.float32)\n",
    "\n",
    "    # calculate mmd and permutation between dynamic and emp\n",
    "    mmd_dynamic_emp[4, j] = maximum_mean_discrepancy(x_dynamic, x_emp)\n",
    "    # mmd_dynamic_emp_perm[4, j] = mmd_permutation(x_dynamic, x_emp)\n",
    "\n",
    "    # calculate mmd and permutation between dynamic and fast-dm\n",
    "    mmd_dynamic_fast[4, j] = maximum_mean_discrepancy(x_dynamic, x_fast_dm)\n",
    "    # mmd_dynamic_fast_perm[4, j] = mmd_permutation(x_dynamic, x_fast_dm)"
   ]
  },
  {
   "cell_type": "code",
   "execution_count": 21,
   "id": "d81949db",
   "metadata": {},
   "outputs": [],
   "source": [
    "mmd_dynamic_emp = np.load('mmd/mmd_dynamic_emp.npy')\n",
    "mmd_dynamic_emp_perm = np.load('mmd/mmd_dynamic_emp_perm.npy')\n",
    "mmd_dynamic_fast = np.load('mmd/mmd_dynamic_fast.npy')\n",
    "mmd_dynamic_fast_perm = np.load('mmd/mmd_dynamic_fast_perm.npy')\n",
    "mmd_fast_emp = np.load('mmd/mmd_fast_emp.npy')\n",
    "mmd_fast_emp_perm = np.load('mmd/mmd_fast_emp_perm.npy')"
   ]
  },
  {
   "cell_type": "code",
   "execution_count": 23,
   "id": "2041a6eb",
   "metadata": {},
   "outputs": [
    {
     "data": {
      "text/plain": [
       "0.012639479"
      ]
     },
     "execution_count": 23,
     "metadata": {},
     "output_type": "execute_result"
    }
   ],
   "source": [
    "mmd_dynamic_emp.mean()"
   ]
  },
  {
   "cell_type": "code",
   "execution_count": 25,
   "id": "757df440",
   "metadata": {},
   "outputs": [
    {
     "data": {
      "text/plain": [
       "0.003164391"
      ]
     },
     "execution_count": 25,
     "metadata": {},
     "output_type": "execute_result"
    }
   ],
   "source": [
    "mmd_dynamic_emp.std()"
   ]
  },
  {
   "cell_type": "code",
   "execution_count": 26,
   "id": "a919e12a",
   "metadata": {},
   "outputs": [
    {
     "data": {
      "text/plain": [
       "0.027344096"
      ]
     },
     "execution_count": 26,
     "metadata": {},
     "output_type": "execute_result"
    }
   ],
   "source": [
    "mmd_fast_emp.mean()"
   ]
  },
  {
   "cell_type": "code",
   "execution_count": 27,
   "id": "887a0dfc",
   "metadata": {},
   "outputs": [
    {
     "data": {
      "text/plain": [
       "0.015468308"
      ]
     },
     "execution_count": 27,
     "metadata": {},
     "output_type": "execute_result"
    }
   ],
   "source": [
    "mmd_fast_emp.std()\n"
   ]
  },
  {
   "cell_type": "code",
   "execution_count": 29,
   "id": "929576d5",
   "metadata": {},
   "outputs": [
    {
     "data": {
      "text/plain": [
       "0.020022826"
      ]
     },
     "execution_count": 29,
     "metadata": {},
     "output_type": "execute_result"
    }
   ],
   "source": [
    "mmd_dynamic_fast.mean()"
   ]
  },
  {
   "cell_type": "code",
   "execution_count": 33,
   "id": "79a006fe",
   "metadata": {},
   "outputs": [
    {
     "data": {
      "text/plain": [
       "0.013819416"
      ]
     },
     "execution_count": 33,
     "metadata": {},
     "output_type": "execute_result"
    }
   ],
   "source": [
    "mmd_dynamic_fast.std()"
   ]
  },
  {
   "cell_type": "code",
   "execution_count": 34,
   "id": "85a4c50d",
   "metadata": {},
   "outputs": [
    {
     "data": {
      "text/plain": [
       "0.017984495"
      ]
     },
     "execution_count": 34,
     "metadata": {},
     "output_type": "execute_result"
    }
   ],
   "source": [
    "mmd_dynamic_fast.mean(axis=1).mean()"
   ]
  },
  {
   "cell_type": "code",
   "execution_count": 41,
   "id": "00449792",
   "metadata": {},
   "outputs": [],
   "source": [
    "import scipy"
   ]
  },
  {
   "cell_type": "code",
   "execution_count": 72,
   "id": "2277536f",
   "metadata": {},
   "outputs": [
    {
     "data": {
      "text/plain": [
       "(1000,)"
      ]
     },
     "execution_count": 72,
     "metadata": {},
     "output_type": "execute_result"
    }
   ],
   "source": [
    "mmd_dynamic_emp_perm.mean(axis=1).mean(axis=0).shape"
   ]
  },
  {
   "cell_type": "code",
   "execution_count": 81,
   "id": "1b4f9409",
   "metadata": {},
   "outputs": [
    {
     "data": {
      "text/plain": [
       "array([0.01640663, 0.01297874, 0.01921539, 0.01344948, 0.01204109,\n",
       "       0.01119804, 0.01970024, 0.00974007, 0.01971207, 0.01528015,\n",
       "       0.01464806], dtype=float32)"
      ]
     },
     "execution_count": 81,
     "metadata": {},
     "output_type": "execute_result"
    }
   ],
   "source": [
    "emp = mmd_dynamic_emp.mean(axis=1)\n",
    "emp"
   ]
  },
  {
   "cell_type": "code",
   "execution_count": 84,
   "id": "b49e9df4",
   "metadata": {},
   "outputs": [
    {
     "data": {
      "text/plain": [
       "array([0.01182938, 0.01432228, 0.02343178, 0.02231789, 0.0259552 ,\n",
       "       0.06067085, 0.02547264, 0.02800941, 0.04454422, 0.01502609,\n",
       "       0.01079941], dtype=float32)"
      ]
     },
     "execution_count": 84,
     "metadata": {},
     "output_type": "execute_result"
    }
   ],
   "source": [
    "mmd_fast_emp"
   ]
  },
  {
   "cell_type": "code",
   "execution_count": 77,
   "id": "8d7d75bf",
   "metadata": {},
   "outputs": [
    {
     "data": {
      "text/plain": [
       "(11, 5, 1000)"
      ]
     },
     "execution_count": 77,
     "metadata": {},
     "output_type": "execute_result"
    }
   ],
   "source": [
    "mmd_dynamic_emp_perm.shape"
   ]
  },
  {
   "cell_type": "code",
   "execution_count": 74,
   "id": "9751f7fb",
   "metadata": {},
   "outputs": [
    {
     "data": {
      "text/plain": [
       "(11, 1000)"
      ]
     },
     "execution_count": 74,
     "metadata": {},
     "output_type": "execute_result"
    }
   ],
   "source": [
    "dist = mmd_dynamic_emp_perm.mean(axis=1)\n",
    "dist.shape"
   ]
  },
  {
   "cell_type": "code",
   "execution_count": 75,
   "id": "ceb8fb83",
   "metadata": {},
   "outputs": [
    {
     "data": {
      "text/plain": [
       "array([1., 1., 1., 1., 1., 1., 1., 1., 1., 1., 1.], dtype=float32)"
      ]
     },
     "execution_count": 75,
     "metadata": {},
     "output_type": "execute_result"
    }
   ],
   "source": [
    "n_sub = emp.shape[0]\n",
    "p_value = np.empty(n_obs, dtype=np.float32)\n",
    "for i in range(n_sub):\n",
    "    p_value[i] = dist.shape[1] / (dist[i] < emp[i]).sum()\n",
    "\n",
    "p_value"
   ]
  },
  {
   "cell_type": "code",
   "execution_count": 76,
   "id": "30f064fc",
   "metadata": {},
   "outputs": [
    {
     "data": {
      "text/plain": [
       "1000"
      ]
     },
     "execution_count": 76,
     "metadata": {},
     "output_type": "execute_result"
    }
   ],
   "source": [
    "dist.shape[1]"
   ]
  },
  {
   "cell_type": "code",
   "execution_count": 79,
   "id": "0608d67a",
   "metadata": {},
   "outputs": [
    {
     "data": {
      "text/plain": [
       "<AxesSubplot:ylabel='Count'>"
      ]
     },
     "execution_count": 79,
     "metadata": {},
     "output_type": "execute_result"
    },
    {
     "data": {
      "image/png": "[encoded data removed]",
      "text/plain": [
       "<Figure size 432x288 with 1 Axes>"
      ]
     },
     "metadata": {
      "needs_background": "light"
     },
     "output_type": "display_data"
    }
   ],
   "source": [
    "sns.histplot(mmd_dynamic_emp_perm[0, 0])"
   ]
  },
  {
   "cell_type": "code",
   "execution_count": 80,
   "id": "d89d2ded",
   "metadata": {},
   "outputs": [
    {
     "data": {
      "text/plain": [
       "array([[0.01539993, 0.0171566 , 0.01703835, 0.015522  , 0.01691628],\n",
       "       [0.01552963, 0.01327515, 0.01036644, 0.01570702, 0.01001549],\n",
       "       [0.01898003, 0.01965332, 0.01936531, 0.02038765, 0.01769066],\n",
       "       [0.01471329, 0.01142502, 0.01495934, 0.01292801, 0.01322174],\n",
       "       [0.01389313, 0.01317215, 0.01189613, 0.01113129, 0.01011276],\n",
       "       [0.01127434, 0.01164436, 0.01117516, 0.01096916, 0.0109272 ],\n",
       "       [0.01926422, 0.01959991, 0.01931381, 0.02046013, 0.01986313],\n",
       "       [0.00994682, 0.01070404, 0.00787735, 0.00862312, 0.011549  ],\n",
       "       [0.02236938, 0.01710892, 0.01861191, 0.02161407, 0.01885605],\n",
       "       [0.01504135, 0.01557922, 0.01590919, 0.0144062 , 0.01546478],\n",
       "       [0.01767921, 0.01229858, 0.01690102, 0.01293755, 0.01342392]],\n",
       "      dtype=float32)"
      ]
     },
     "execution_count": 80,
     "metadata": {},
     "output_type": "execute_result"
    }
   ],
   "source": [
    "mmd_dynamic_emp"
   ]
  },
  {
   "cell_type": "code",
   "execution_count": null,
   "id": "3b78739e",
   "metadata": {},
   "outputs": [],
   "source": []
  }
 ],
 "metadata": {
  "kernelspec": {
   "display_name": "Python 3 (ipykernel)",
   "language": "python",
   "name": "python3"
  },
  "language_info": {
   "codemirror_mode": {
    "name": "ipython",
    "version": 3
   },
   "file_extension": ".py",
   "mimetype": "text/x-python",
   "name": "python",
   "nbconvert_exporter": "python",
   "pygments_lexer": "ipython3",
   "version": "3.9.7"
  },
  "toc": {
   "base_numbering": 1,
   "nav_menu": {},
   "number_sections": true,
   "sideBar": true,
   "skip_h1_title": false,
   "title_cell": "Table of Contents",
   "title_sidebar": "Contents",
   "toc_cell": false,
   "toc_position": {},
   "toc_section_display": true,
   "toc_window_display": false
  }
 },
 "nbformat": 4,
 "nbformat_minor": 5
}
