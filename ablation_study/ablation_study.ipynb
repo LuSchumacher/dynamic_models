{
 "cells": [
  {
   "cell_type": "code",
   "execution_count": 44,
   "metadata": {},
   "outputs": [],
   "source": [
    "import numpy as np\n",
    "import matplotlib.pyplot as plt\n",
    "import seaborn as sns\n",
    "import pandas as pd\n",
    "from numba import njit\n",
    "from tqdm.notebook import tqdm\n",
    "# import talib\n",
    "import pickle\n",
    "import pystan\n",
    "\n",
    "import os, sys\n",
    "\n",
    "sys.path.append(os.path.abspath(os.path.join('../src')))\n",
    "from generative_models import *\n",
    "from networks import *\n",
    "\n",
    "import tensorflow as tf\n",
    "from tensorflow.keras.layers import LSTM, Dense, GRU\n",
    "from tensorflow.keras.models import Sequential\n",
    "from tensorflow.keras.utils import to_categorical\n",
    "import tensorflow_probability as tfp\n",
    "tfd = tfp.distributions\n",
    "tfpl = tfp.layers\n",
    "\n",
    "sys.path.append(os.path.abspath(os.path.join('../../BayesFlow')))\n",
    "from bayesflow.diagnostics import *"
   ]
  },
  {
   "cell_type": "code",
   "execution_count": null,
   "metadata": {},
   "outputs": [],
   "source": [
    "%load_ext autoreload\n",
    "%autoreload 2\n",
    "np.set_printoptions(suppress=True)"
   ]
  },
  {
   "cell_type": "code",
   "execution_count": null,
   "metadata": {},
   "outputs": [],
   "source": [
    "# set font type\n",
    "import matplotlib\n",
    "matplotlib.rcParams['font.serif'] = \"Palatino\"\n",
    "matplotlib.rcParams['font.family'] = \"serif\""
   ]
  },
  {
   "cell_type": "code",
   "execution_count": null,
   "metadata": {},
   "outputs": [],
   "source": [
    "# gpu setting and checking\n",
    "# physical_devices = tf.config.list_physical_devices('GPU')\n",
    "# tf.config.experimental.set_memory_growth(physical_devices[0], enable=True)\n",
    "# print(tf.config.list_physical_devices('GPU'))"
   ]
  },
  {
   "cell_type": "markdown",
   "metadata": {},
   "source": [
    "## Stan"
   ]
  },
  {
   "cell_type": "code",
   "execution_count": null,
   "metadata": {},
   "outputs": [],
   "source": [
    "stan_model = \"\"\"\n",
    "data {\n",
    "  int<lower=0> N;                 \n",
    "  real<lower=0> rt[N];    \n",
    "  int<lower=0,upper=1> correct[N];\n",
    "  int<lower=1,upper=4> context[N];\n",
    "}\n",
    "\n",
    "parameters {\n",
    "  real<lower=0> v[4];\n",
    "  real<lower=0> a; \n",
    "  real<lower=0> ndt;\n",
    "}\n",
    "\n",
    "model {\n",
    "  // Priors\n",
    "  v ~ gamma(2.5, 1.5);\n",
    "  a ~ gamma(4.0, 3.0);\n",
    "  ndt ~ gamma(1.5, 5.0);\n",
    "  \n",
    "  for (n in 1:N) {\n",
    "     if (correct[n] == 1) {\n",
    "        rt[n] ~ wiener(a, ndt, 0.5, v[context[n]]);\n",
    "     } \n",
    "     else {\n",
    "        rt[n] ~ wiener(a, ndt, 1 - 0.5, -v[context[n]]);\n",
    "     }\n",
    "  }\n",
    "}\n",
    "\"\"\""
   ]
  },
  {
   "cell_type": "code",
   "execution_count": null,
   "metadata": {},
   "outputs": [],
   "source": [
    "def to_stan(sim_data):\n",
    "    \"\"\"\n",
    "    Convert data from simulator to stan-friendly format.\n",
    "    \"\"\"\n",
    "    rt = sim_data[:, 0]\n",
    "    context = sim_data[:, 1].astype(np.int32) + 1\n",
    "    correct = (rt >= 0).astype(np.int32)\n",
    "    rt = np.abs(rt).astype(np.float32)\n",
    "    return {'rt': rt, 'correct': correct, 'context': context, 'N': rt.shape[0]}\n",
    "\n",
    "def loop_stan(data, verbose=True):\n",
    "    \"\"\"\n",
    "    Loop through data and obtain posteriors.\n",
    "    \"\"\"\n",
    "    \n",
    "    stan_post_samples = []\n",
    "    for i in range(data.shape[0]):\n",
    "        data_i = to_stan(data[i])\n",
    "        ndt_init = data_i['rt'].min() * 0.75\n",
    "        init = {'ndt': ndt_init}\n",
    "        fit = sm.sampling(data=data_i, \n",
    "                          iter=2000, chains=4, n_jobs=4, init=[init, init, init, init],\n",
    "                          control=dict(adapt_delta=0.99, max_treedepth=15))\n",
    "        samples = fit.extract(permuted=True)\n",
    "        stan_post_samples.append(samples)\n",
    "        if verbose:\n",
    "            print(f'Finished estimating data set {i + 1}...')\n",
    "    return stan_post_samples"
   ]
  },
  {
   "cell_type": "markdown",
   "metadata": {},
   "source": [
    "# Simulation"
   ]
  },
  {
   "cell_type": "code",
   "execution_count": null,
   "metadata": {},
   "outputs": [],
   "source": [
    "N_OBS = 3200\n",
    "BATCH_SIZE = 100"
   ]
  },
  {
   "cell_type": "code",
   "execution_count": null,
   "metadata": {},
   "outputs": [],
   "source": [
    "# parallelization for stan\n",
    "import multiprocessing\n",
    "multiprocessing.set_start_method(\"fork\")"
   ]
  },
  {
   "cell_type": "code",
   "execution_count": null,
   "metadata": {},
   "outputs": [],
   "source": [
    "# compile stan model\n",
    "sm = pystan.StanModel(model_code=stan_model)"
   ]
  },
  {
   "cell_type": "markdown",
   "metadata": {},
   "source": [
    "## No variance (static)"
   ]
  },
  {
   "cell_type": "code",
   "execution_count": null,
   "metadata": {},
   "outputs": [],
   "source": [
    "prior_draws = dynamic_prior(BATCH_SIZE)\n",
    "context = context_gen(BATCH_SIZE, N_OBS)\n",
    "sim_data, theta_d = static_batch_simulator(prior_draws, context)\n",
    "sim_data.shape"
   ]
  },
  {
   "cell_type": "code",
   "execution_count": null,
   "metadata": {},
   "outputs": [],
   "source": [
    "# sanity check\n",
    "which_param = 0\n",
    "plt.plot(np.arange(N_OBS), theta_d[0, :, which_param])"
   ]
  },
  {
   "cell_type": "code",
   "execution_count": null,
   "metadata": {},
   "outputs": [],
   "source": [
    "# pickle.dump(\n",
    "# {\n",
    "#     'rt': sim_data[:, : , 0], \n",
    "#     'context': sim_data[:, : , 1], \n",
    "#     'theta_d': theta_d,\n",
    "#     }, \n",
    "#     open('sim_data_ablation/sim_data_ablation_3200_noVar.pkl', 'wb+')\n",
    "# )"
   ]
  },
  {
   "cell_type": "code",
   "execution_count": null,
   "metadata": {},
   "outputs": [],
   "source": [
    "# stan_post_samples = loop_stan(sim_data)"
   ]
  },
  {
   "cell_type": "markdown",
   "metadata": {},
   "source": [
    "## Low variance"
   ]
  },
  {
   "cell_type": "code",
   "execution_count": null,
   "metadata": {},
   "outputs": [],
   "source": [
    "prior_draws = dynamic_prior(BATCH_SIZE, fixed_var=0.001)\n",
    "context = context_gen(BATCH_SIZE, N_OBS)\n",
    "sim_data, theta_d, theta_s = dynamic_batch_simulator(prior_draws, context)\n",
    "sim_data.shape"
   ]
  },
  {
   "cell_type": "code",
   "execution_count": null,
   "metadata": {},
   "outputs": [],
   "source": [
    "# sanity check\n",
    "which_param = 0\n",
    "plt.plot(np.arange(N_OBS), theta_d[0, :, which_param])"
   ]
  },
  {
   "cell_type": "code",
   "execution_count": null,
   "metadata": {},
   "outputs": [],
   "source": [
    "# pickle.dump(\n",
    "# {\n",
    "#     'rt': sim_data[:, : , 0], \n",
    "#     'context': sim_data[:, : , 1], \n",
    "#     'theta_d': theta_d,\n",
    "#     }, \n",
    "#     open('sim_data_ablation/sim_data_ablation_3200_lowVar.pkl', 'wb+')\n",
    "# )"
   ]
  },
  {
   "cell_type": "code",
   "execution_count": null,
   "metadata": {},
   "outputs": [],
   "source": [
    "# stan_post_samples = loop_stan(sim_data)"
   ]
  },
  {
   "cell_type": "markdown",
   "metadata": {},
   "source": [
    "## High variance"
   ]
  },
  {
   "cell_type": "code",
   "execution_count": null,
   "metadata": {},
   "outputs": [],
   "source": [
    "%%time\n",
    "prior_draws = dynamic_prior(BATCH_SIZE, fixed_var=0.1)\n",
    "context = context_gen(BATCH_SIZE, N_OBS)\n",
    "sim_data, theta_d, theta_s = dynamic_batch_simulator(prior_draws, context)\n",
    "sim_data.shape"
   ]
  },
  {
   "cell_type": "code",
   "execution_count": null,
   "metadata": {},
   "outputs": [],
   "source": [
    "# sanity check\n",
    "which_param = 0\n",
    "plt.plot(np.arange(N_OBS), theta_d[0, :, which_param])"
   ]
  },
  {
   "cell_type": "code",
   "execution_count": null,
   "metadata": {},
   "outputs": [],
   "source": [
    "# pickle.dump(\n",
    "# {\n",
    "#     'rt': sim_data[:, : , 0], \n",
    "#     'context': sim_data[:, : , 1], \n",
    "#     'theta_d': theta_d,\n",
    "#     }, \n",
    "#     open('sim_data_ablation/sim_data_ablation_3200_highVar.pkl', 'wb+')\n",
    "# )"
   ]
  },
  {
   "cell_type": "code",
   "execution_count": null,
   "metadata": {},
   "outputs": [],
   "source": [
    "# stan_post_samples = loop_stan(sim_data)"
   ]
  },
  {
   "cell_type": "markdown",
   "metadata": {},
   "source": [
    "# Amortizers"
   ]
  },
  {
   "cell_type": "markdown",
   "metadata": {},
   "source": [
    "## Network architecture"
   ]
  },
  {
   "cell_type": "markdown",
   "metadata": {},
   "source": [
    "## Loss"
   ]
  },
  {
   "cell_type": "code",
   "execution_count": null,
   "metadata": {},
   "outputs": [],
   "source": [
    "def nll(y_true, y_pred):\n",
    "    return tf.reduce_mean(-y_pred.log_prob(y_true))"
   ]
  },
  {
   "cell_type": "markdown",
   "metadata": {},
   "source": [
    "## Epoch helper"
   ]
  },
  {
   "cell_type": "code",
   "execution_count": null,
   "metadata": {},
   "outputs": [],
   "source": [
    "def epoch_trainer(network, optimizer, batch_size, n_obs, steps_per_epoch, p_bar, fixed_var):\n",
    "    losses = []\n",
    "    for step in range(1, steps_per_epoch+1):\n",
    "        with tf.GradientTape() as tape:\n",
    "            # Simulate from model\n",
    "            prior_draws = dynamic_prior(batch_size, fixed_var)\n",
    "            context = context_gen(batch_size, n_obs)\n",
    "            sim_data, theta_d, theta_s = dynamic_batch_simulator(prior_draws, context)\n",
    "\n",
    "            # predict\n",
    "            net_in = tf.concat((sim_data[:, :, :1], to_categorical(sim_data[:, :, 1:])), axis=-1)\n",
    "            pred_theta_d, pred_theta_s = network(net_in)\n",
    "\n",
    "            # loss\n",
    "            loss_d = nll(theta_d, pred_theta_d)\n",
    "            loss_s = nll(theta_s, pred_theta_s)\n",
    "            total_loss = loss_d + loss_s\n",
    "\n",
    "        g = tape.gradient(total_loss, network.trainable_variables)\n",
    "        optimizer.apply_gradients(zip(g, network.trainable_variables))\n",
    "        losses.append(total_loss.numpy())\n",
    "\n",
    "        # Update progress bar\n",
    "        p_bar.set_postfix_str(\"Ep: {},Step {},Loss D: {:.3f} Running Loss: {:.3f}\"\n",
    "                              .format(ep, step, loss_d.numpy(), np.mean(losses)))\n",
    "        p_bar.update(1)\n",
    "\n",
    "def static_epoch_trainer(network, optimizer, batch_size, n_obs, steps_per_epoch, p_bar):\n",
    "    \n",
    "    losses = []\n",
    "    for step in range(1, steps_per_epoch+1):\n",
    "        with tf.GradientTape() as tape:\n",
    "        \n",
    "            # Simulate from model\n",
    "            prior_draws = dynamic_prior(batch_size)\n",
    "            context = context_gen(batch_size, n_obs)\n",
    "            sim_data, theta_d = static_batch_simulator(prior_draws, context)\n",
    "\n",
    "            net_in = tf.concat((sim_data[:, :, :1], to_categorical(sim_data[:, :, 1:])), axis=-1)\n",
    "            pred_theta_d = network(net_in)\n",
    "\n",
    "            # Loss \n",
    "            loss_d = nll(theta_d, pred_theta_d)\n",
    "            \n",
    "            total_loss = loss_d\n",
    "        g = tape.gradient(total_loss, network.trainable_variables)\n",
    "        optimizer.apply_gradients(zip(g, network.trainable_variables))\n",
    "        losses.append(total_loss.numpy())\n",
    "\n",
    "        # Update progress bar\n",
    "        p_bar.set_postfix_str(\"Ep: {},Step {},Loss D: {:.3f} Running Loss: {:.3f}\"\n",
    "                              .format(ep, step, loss_d.numpy(), np.mean(losses)))\n",
    "        p_bar.update(1)\n",
    "            \n",
    "        total_loss = loss_d\n",
    "        g = tape.gradient(total_loss, network.trainable_variables)\n",
    "        optimizer.apply_gradients(zip(g, network.trainable_variables))\n",
    "        losses.append(total_loss.numpy())\n",
    "\n",
    "        # Update progress bar\n",
    "        p_bar.set_postfix_str(\"Ep: {},Step {},Loss D: {:.3f} Running Loss: {:.3f}\"\n",
    "                              .format(ep, step, loss_d.numpy(), np.mean(losses)))\n",
    "        p_bar.update(1)"
   ]
  },
  {
   "cell_type": "markdown",
   "metadata": {},
   "source": [
    "## Training"
   ]
  },
  {
   "cell_type": "code",
   "execution_count": null,
   "metadata": {},
   "outputs": [],
   "source": [
    "N_OBS = 3200\n",
    "BATCH_SIZE = 8\n",
    "STEPS_PER_EPOCH = 1000\n",
    "epochs = [50, 25, 25]\n",
    "learning_rates = [0.0001, 0.00005, 0.00001]"
   ]
  },
  {
   "cell_type": "markdown",
   "metadata": {},
   "source": [
    "### No variance (static)"
   ]
  },
  {
   "cell_type": "code",
   "execution_count": null,
   "metadata": {},
   "outputs": [],
   "source": [
    "network = StaticHeteroscedasticNetwork(6)"
   ]
  },
  {
   "cell_type": "code",
   "execution_count": null,
   "metadata": {},
   "outputs": [],
   "source": [
    "%%time\n",
    "for i in range(len(epochs)):\n",
    "    # set learning rate\n",
    "    optimizer = tf.keras.optimizers.Adam(learning_rates[i])\n",
    "    \n",
    "    # train epochs\n",
    "    for ep in range(1, epochs[i]+1):\n",
    "        with tqdm(total=STEPS_PER_EPOCH, desc='Training epoch {}'.format(ep)) as p_bar:\n",
    "            static_epoch_trainer(network, optimizer, BATCH_SIZE, N_OBS, STEPS_PER_EPOCH, p_bar)\n",
    "    \n",
    "    #save weights\n",
    "    network.save_weights('checkpoints/ablation_static_3200')"
   ]
  },
  {
   "cell_type": "markdown",
   "metadata": {},
   "source": [
    "### Low variance"
   ]
  },
  {
   "cell_type": "code",
   "execution_count": null,
   "metadata": {},
   "outputs": [],
   "source": [
    "network = HeteroscedasticNetwork(6, 6)"
   ]
  },
  {
   "cell_type": "code",
   "execution_count": null,
   "metadata": {},
   "outputs": [],
   "source": [
    "%%time\n",
    "for i in range(len(epochs)):\n",
    "    # set learning rate\n",
    "    optimizer = tf.keras.optimizers.Adam(learning_rates[i])\n",
    "    \n",
    "    # train epochs\n",
    "    for ep in range(1, epochs[i]+1):\n",
    "        with tqdm(total=STEPS_PER_EPOCH, desc='Training epoch {}'.format(ep)) as p_bar:\n",
    "            epoch_trainer(network, optimizer, BATCH_SIZE, N_OBS, STEPS_PER_EPOCH, p_bar, 0.001)\n",
    "    \n",
    "    #save weights\n",
    "    network.save_weights('checkpoints/ablation_lowVar_3200')"
   ]
  },
  {
   "cell_type": "markdown",
   "metadata": {},
   "source": [
    "### High variance"
   ]
  },
  {
   "cell_type": "code",
   "execution_count": null,
   "metadata": {},
   "outputs": [],
   "source": [
    "network = HeteroscedasticNetwork(6, 6)"
   ]
  },
  {
   "cell_type": "code",
   "execution_count": null,
   "metadata": {},
   "outputs": [],
   "source": [
    "%%time\n",
    "for i in range(len(epochs)):\n",
    "    # set learning rate\n",
    "    optimizer = tf.keras.optimizers.Adam(learning_rates[i])\n",
    "    \n",
    "    # train epochs\n",
    "    for ep in range(1, epochs[i]+1):\n",
    "        with tqdm(total=STEPS_PER_EPOCH, desc='Training epoch {}'.format(ep)) as p_bar:\n",
    "            epoch_trainer(network, optimizer, BATCH_SIZE, N_OBS, STEPS_PER_EPOCH, p_bar, 0.1)\n",
    "    \n",
    "    #save weights\n",
    "    network.save_weights('checkpoints/ablation_highVar_3200')"
   ]
  },
  {
   "cell_type": "markdown",
   "metadata": {},
   "source": [
    "# Evaluation"
   ]
  },
  {
   "cell_type": "code",
   "execution_count": null,
   "metadata": {},
   "outputs": [],
   "source": [
    "# load trained network\n",
    "network_no_var   = StaticHeteroscedasticNetwork(6)\n",
    "network_low_var  = HeteroscedasticNetwork(6, 6)\n",
    "network_high_var = HeteroscedasticNetwork(6, 6)\n",
    "network_dynamic_dm = HeteroscedasticNetwork(6, 6)\n",
    "network_no_var.load_weights('checkpoints_ablation/ablation_static_3200')\n",
    "network_low_var.load_weights('checkpoints_ablation/ablation_lowVar_3200')\n",
    "network_high_var.load_weights('checkpoints_ablation/ablation_highVar_3200')\n",
    "network_dynamic_dm.load_weights('../model_comparison/checkpoints/varying_hyperparams_3200')"
   ]
  },
  {
   "cell_type": "code",
   "execution_count": null,
   "metadata": {},
   "outputs": [],
   "source": [
    "def plot_post_sd(stan_post_samples, bf_post_no_var, bf_post_low_var, bf_post_high_var, bf_post_dynamic_dm, res, types):\n",
    "    # get mean and sd of posterior sd's from Bayesflow fits\n",
    "    bf_post_no_var_sd   = np.array(bf_post_no_var.stddev()).mean(axis=0)\n",
    "    bf_post_low_var_sd  = np.array(bf_post_low_var.stddev()).mean(axis=0)\n",
    "    bf_post_high_var_sd = np.array(bf_post_high_var.stddev()).mean(axis=0)\n",
    "    bf_post_dynamic_dm_sd = np.array(bf_post_dynamic_dm.stddev()).mean(axis=0)\n",
    "    bf_post_no_var_sd_sd   = np.array(bf_post_no_var.stddev()).std(axis=0)\n",
    "    bf_post_low_var_sd_sd  = np.array(bf_post_low_var.stddev()).std(axis=0)\n",
    "    bf_post_high_var_sd_sd = np.array(bf_post_high_var.stddev()).std(axis=0)\n",
    "    bf_post_dynamic_dm_sd_sd = np.array(bf_post_dynamic_dm.stddev()).std(axis=0)\n",
    "\n",
    "    # get mean and sd posterior sd's from Stan fits\n",
    "    stan_sd = np.zeros((100, 6))\n",
    "    for j in range(100):\n",
    "        v = np.array(stan_post_samples[stan_post_samples.sim == j+1][['v.1', 'v.2', 'v.3', 'v.4']])\n",
    "        a = stan_post_samples[stan_post_samples.sim == j+1]['a']\n",
    "        ndt = stan_post_samples[stan_post_samples.sim == j+1]['ndt']\n",
    "        # v = stan_post_samples[j]['v']\n",
    "        # a = stan_post_samples[j]['a']\n",
    "        # ndt = stan_post_samples[j]['ndt']\n",
    "\n",
    "        stan_posterior = np.c_[v, a, ndt]\n",
    "        stan_sd[j] = stan_posterior.std(axis=0)\n",
    "\n",
    "    stan_sd_sd = stan_sd.std(axis=0)\n",
    "    stan_sd = stan_sd.mean(axis=0)\n",
    "\n",
    "    # plotting info\n",
    "    labels = ['No variance', 'Low variance', 'High variance', 'Dynamic DM', \"Static Stan\"]\n",
    "    param_labels = ['Drift rate 1', 'Drift rate 2', 'Drift rate 3', 'Drift rate 4', 'Threshold', 'Non-decision time']\n",
    "    colors = ['#e3a3a3', '#a63636', '#511515', '#598f70', \"#000000\"]\n",
    "    # colors = ['#d36666', '#852626', '#5d1b1b', \"#000000\"]\n",
    "    param_names = [r'$v_1$', r'$v_2$', r'$v_3$', r'$v_4$', r'$a$', r'$\\tau$']\n",
    "    alpha_line = 0.8\n",
    "    alpha_fill = 0.3\n",
    "    linewidth = 3\n",
    "\n",
    "    # plotting time window\n",
    "    x_min = int(bf_post_no_var_sd.shape[0] - res)\n",
    "    time = np.arange(x_min, bf_post_no_var_sd.shape[0])\n",
    "    f, axarr = plt.subplots(2, 3, figsize=(18, 8), constrained_layout=True)\n",
    "\n",
    "    # iterate over parameters\n",
    "    for i, ax in enumerate(axarr.flat):\n",
    "        # plot Bayesflow results\n",
    "        ax.plot(time, bf_post_no_var_sd[x_min:, i], color=colors[0], label=labels[0], alpha=alpha_line, linewidth=linewidth)\n",
    "        ax.plot(time, bf_post_low_var_sd[x_min:, i], color=colors[1], label=labels[1], alpha=alpha_line, linewidth=linewidth)\n",
    "        ax.plot(time, bf_post_high_var_sd[x_min:, i], color=colors[2], label=labels[2], alpha=alpha_line, linewidth=linewidth)\n",
    "        ax.plot(time, bf_post_dynamic_dm_sd[x_min:, i], color=colors[3], label=labels[3], alpha=alpha_line, linewidth=linewidth)\n",
    "        ax.fill_between(time, bf_post_no_var_sd[x_min:, i]+bf_post_no_var_sd_sd[x_min:, i]/2, bf_post_no_var_sd[x_min:, i]-bf_post_no_var_sd_sd[x_min:, i]/2, color=colors[0], alpha=alpha_fill)\n",
    "        ax.fill_between(time, bf_post_low_var_sd[x_min:, i]+bf_post_low_var_sd_sd[x_min:, i]/2, bf_post_low_var_sd[x_min:, i]-bf_post_low_var_sd_sd[x_min:, i]/2, color=colors[1], alpha=alpha_fill)\n",
    "        ax.fill_between(time, bf_post_high_var_sd[x_min:, i]+bf_post_high_var_sd_sd[x_min:, i]/2, bf_post_high_var_sd[x_min:, i]-bf_post_high_var_sd_sd[x_min:, i]/2, color=colors[2], alpha=alpha_fill)\n",
    "        ax.fill_between(time, bf_post_dynamic_dm_sd[x_min:, i]+bf_post_dynamic_dm_sd_sd[x_min:, i]/2, bf_post_dynamic_dm_sd[x_min:, i]-bf_post_dynamic_dm_sd_sd[x_min:, i]/2, color=colors[3], alpha=alpha_fill)\n",
    "\n",
    "        # plot Stan results\n",
    "        ax.hlines(y=stan_sd[i], xmin=x_min, xmax=3200, color=colors[4], label=labels[4], linestyles=\"dashed\", linewidth=1.5)\n",
    "        stan_sd_array = np.repeat(stan_sd[i], len(time))\n",
    "        ax.fill_between(time, stan_sd_array+stan_sd_sd[i]/2, stan_sd_array-stan_sd_sd[i]/2, color=colors[4], alpha=0.2)\n",
    "\n",
    "        # set appropriate x-axis limits\n",
    "        max_val = np.array([bf_post_no_var_sd[x_min:, i], \n",
    "                            bf_post_low_var_sd[x_min:, i],\n",
    "                            bf_post_high_var_sd[x_min:, i],\n",
    "                            bf_post_dynamic_dm_sd[x_min:, i]]).max()\n",
    "        ax.set_ylim(0, max_val + max_val/2)\n",
    "\n",
    "        sns.despine(ax=ax)\n",
    "        ax.set_xlabel('Time (t)', fontsize=18)\n",
    "        ax.set_ylabel('Posterior standard deviation', fontsize=18)\n",
    "        ax.set_title(param_labels[i] + ' ({})'.format(param_names[i]), fontsize=20)\n",
    "        ax.set_xticks(np.arange(0, 3201, 800))\n",
    "        ax.tick_params(axis='both', which='major', labelsize=16)\n",
    "\n",
    "        if i == 0:  \n",
    "            f.legend(fontsize=16, loc='center', \n",
    "                    bbox_to_anchor=(0.5, -0.05),fancybox=False, shadow=False, ncol=5)\n",
    "            f.suptitle(\"Parameter SDs over time: {}\".format(labels[types]) + \" simulated data\\n\", fontsize=22)\n",
    "\n",
    "    f.tight_layout()"
   ]
  },
  {
   "cell_type": "code",
   "execution_count": null,
   "metadata": {},
   "outputs": [],
   "source": [
    "def plot_post_mean_error(stan_post_samples, bf_post_no_var, bf_post_low_var, bf_post_high_var, bf_post_dynamic, types):\n",
    "    # get mean and sd of posterior means's from Bayesflow fits\n",
    "    bf_post_mean_no_var      = np.array(bf_post_no_var.mean()).mean(axis=0)\n",
    "    bf_post_mean_low_var     = np.array(bf_post_low_var.mean()).mean(axis=0)\n",
    "    bf_post_mean_high_var    = np.array(bf_post_high_var.mean()).mean(axis=0)\n",
    "    bf_post_mean_dynamic_var    = np.array(bf_post_dynamic.mean()).mean(axis=0)\n",
    "    bf_post_mean_no_var_sd   = np.array(bf_post_no_var.mean()).std(axis=0)\n",
    "    bf_post_mean_low_var_sd  = np.array(bf_post_low_var.mean()).std(axis=0)\n",
    "    bf_post_mean_high_var_sd = np.array(bf_post_high_var.mean()).std(axis=0)\n",
    "    bf_post_mean_dynamic_var_sd = np.array(bf_post_dynamic.mean()).std(axis=0)\n",
    "\n",
    "    # get mean and sd posterior mean's from Stan fits\n",
    "    stan_mean = np.zeros((100, 6))\n",
    "    for j in range(100):\n",
    "        v = np.array(stan_post_samples[stan_post_samples.sim == j+1][['v.1', 'v.2', 'v.3', 'v.4']])\n",
    "        a = stan_post_samples[stan_post_samples.sim == j+1]['a']\n",
    "        ndt = stan_post_samples[stan_post_samples.sim == j+1]['ndt']\n",
    "        stan_posterior = np.c_[v, a, ndt]\n",
    "        stan_mean[j] = stan_posterior.mean(axis=0)\n",
    "\n",
    "    stan_mean_sd = stan_mean.std(axis=0)\n",
    "    stan_mean = stan_mean.mean(axis=0)\n",
    "\n",
    "    stan_mean_sd = stan_mean.std(axis=0)\n",
    "    stan_mean = stan_mean.mean(axis=0)\n",
    "\n",
    "    sqrt_err_no_var = (bf_post_mean_no_var - stan_mean)**2\n",
    "    sqrt_err_low_var = (bf_post_mean_low_var - stan_mean)**2\n",
    "    sqrt_err_high_var = (bf_post_mean_high_var - stan_mean)**2\n",
    "    sqrt_err_dynamic = (bf_post_mean_dynamic_var - stan_mean)**2\n",
    "\n",
    "    # plotting info\n",
    "    labels = ['No variance', 'Low variance', 'High variance', 'Dynamic DM']\n",
    "    param_labels = ['Drift rate 1', 'Drift rate 2', 'Drift rate 3', 'Drift rate 4', 'Threshold', 'Non-decision time']\n",
    "    \n",
    "    colors = ['#e3a3a3', '#a63636', '#511515', '#598f70', \"#000000\"]\n",
    "    # colors = ['#d36666', '#852626', '#5d1b1b', \"#000000\"]\n",
    "    param_names = [r'$v_1$', r'$v_2$', r'$v_3$', r'$v_4$', r'$a$', r'$\\tau$']\n",
    "    alpha_line = 0.8\n",
    "    linewidth = 3\n",
    "\n",
    "    # plotting time window\n",
    "    time = np.arange(sqrt_err_no_var.shape[0])\n",
    "    f, axarr = plt.subplots(2, 3, figsize=(18, 8), constrained_layout=True)\n",
    "\n",
    "    # iterate over parameters\n",
    "    for i, ax in enumerate(axarr.flat):\n",
    "        # plot Bayesflow results\n",
    "        ax.plot(time, sqrt_err_no_var[:, i], color=colors[0], label=labels[0], alpha=alpha_line, linewidth=linewidth)\n",
    "        ax.plot(time, sqrt_err_low_var[:, i], color=colors[1], label=labels[1], alpha=alpha_line, linewidth=linewidth)\n",
    "        ax.plot(time, sqrt_err_high_var[:, i], color=colors[2], label=labels[2], alpha=alpha_line, linewidth=linewidth)\n",
    "        ax.plot(time, sqrt_err_dynamic[:, i], color=colors[3], label=labels[3], alpha=alpha_line, linewidth=linewidth)\n",
    "\n",
    "        # set appropriate x-axis limits\n",
    "        max_val = np.array([sqrt_err_no_var[:, i], \n",
    "                            sqrt_err_low_var[:, i],\n",
    "                            sqrt_err_high_var[:, i],\n",
    "                            sqrt_err_dynamic[:, i]]).max()\n",
    "        ax.set_ylim(0, max_val + max_val/2)\n",
    "\n",
    "        sns.despine(ax=ax)\n",
    "        ax.set_xlabel('Time (t)', fontsize=18)\n",
    "        ax.set_ylabel('Squared Error of posterior mean', fontsize=18)\n",
    "        ax.set_title(param_labels[i] + ' ({})'.format(param_names[i]), fontsize=20)\n",
    "        ax.set_xticks(np.arange(0, 3201, 800))\n",
    "        ax.tick_params(axis='both', which='major', labelsize=16)\n",
    "\n",
    "        if i == 0:  \n",
    "            f.legend(fontsize=16, loc='center', \n",
    "                    bbox_to_anchor=(0.5, -0.05),fancybox=False, shadow=False, ncol=4)\n",
    "            f.suptitle(\"Difference between posterior means of BayesFlow and Stan: 100 {}\".format(labels[types]) + \" simulated data\\n\", fontsize=22)\n",
    "\n",
    "    f.tight_layout()"
   ]
  },
  {
   "cell_type": "markdown",
   "metadata": {},
   "source": [
    "### No variance (static)"
   ]
  },
  {
   "cell_type": "code",
   "execution_count": null,
   "metadata": {},
   "outputs": [],
   "source": [
    "# # load trained network\n",
    "# network_no_var   = StaticHeteroscedasticNetwork(6)\n",
    "# network_low_var  = HeteroscedasticNetwork(6, 6)\n",
    "# network_high_var = HeteroscedasticNetwork(6, 6)\n",
    "# network_dynamic_dm = HeteroscedasticNetwork(6, 6)\n",
    "# network_no_var.load_weights('checkpoints_ablation/static_800')\n",
    "# network_low_var.load_weights('checkpoints_ablation/lowVar_800')\n",
    "# network_high_var.load_weights('checkpoints_ablation/highVar_800')\n",
    "# network_dynamic_dm.load_weights('../model_comparison/checkpoints/varying_hyperparams_3200')"
   ]
  },
  {
   "cell_type": "code",
   "execution_count": null,
   "metadata": {},
   "outputs": [],
   "source": [
    "# # load simulated data and stan fits\n",
    "# sim = pd.read_pickle('sim_data_ablation/sim_800_noVar.pkl')\n",
    "# rt = sim['rt']\n",
    "# context = to_categorical(sim['context'])\n",
    "# sim_data = np.concatenate((rt[:, :, np.newaxis], context), axis=-1)\n",
    "# stan_post_samples = sim['stan_post_samples']"
   ]
  },
  {
   "cell_type": "code",
   "execution_count": 31,
   "metadata": {},
   "outputs": [
    {
     "data": {
      "text/plain": [
       "(100, 3200, 2)"
      ]
     },
     "execution_count": 31,
     "metadata": {},
     "output_type": "execute_result"
    }
   ],
   "source": [
    "# simulated data with no variance\n",
    "prior_draws = dynamic_prior(BATCH_SIZE)\n",
    "context = context_gen(BATCH_SIZE, N_OBS)\n",
    "sim_data, theta_d = static_batch_simulator(prior_draws, context)\n",
    "sim_data.shape"
   ]
  },
  {
   "cell_type": "code",
   "execution_count": 32,
   "metadata": {},
   "outputs": [
    {
     "data": {
      "text/plain": [
       "(100, 3200, 5)"
      ]
     },
     "execution_count": 32,
     "metadata": {},
     "output_type": "execute_result"
    }
   ],
   "source": [
    "# prepare data for inference\n",
    "rt = sim_data[:, :, 0]\n",
    "context = sim_data[:, :, 1]\n",
    "context = to_categorical(context)\n",
    "x_nn = np.concatenate((rt[:, :, np.newaxis], context), axis=-1)\n",
    "x_nn.shape"
   ]
  },
  {
   "cell_type": "code",
   "execution_count": 33,
   "metadata": {},
   "outputs": [
    {
     "data": {
      "text/plain": [
       "TensorShape([100, 3200, 6])"
      ]
     },
     "execution_count": 33,
     "metadata": {},
     "output_type": "execute_result"
    }
   ],
   "source": [
    "# amortized inference\n",
    "bf_post_no_var   = network_no_var(x_nn)\n",
    "bf_post_low_var, _  = network_low_var(x_nn)\n",
    "bf_post_high_var, _ = network_high_var(x_nn)\n",
    "bf_post_dynamic_dm, _ = network_dynamic_dm(x_nn)\n",
    "bf_post_dynamic_dm.shape"
   ]
  },
  {
   "cell_type": "code",
   "execution_count": 34,
   "metadata": {},
   "outputs": [
    {
     "data": {
      "text/plain": [
       "(3200, 6)"
      ]
     },
     "execution_count": 34,
     "metadata": {},
     "output_type": "execute_result"
    }
   ],
   "source": [
    "# calculate trial-by-trial parameter SDs\n",
    "bf_post_no_var_sd = np.array(bf_post_no_var.stddev()).mean(axis=0)\n",
    "bf_post_low_var_sd = np.array(bf_post_low_var.stddev()).mean(axis=0)\n",
    "bf_post_high_var_sd = np.array(bf_post_high_var.stddev()).mean(axis=0)\n",
    "bf_post_dynamic_dm_sd = np.array(bf_post_dynamic_dm.stddev()).mean(axis=0)\n",
    "bf_post_dynamic_dm_sd.shape"
   ]
  },
  {
   "cell_type": "code",
   "execution_count": 43,
   "metadata": {},
   "outputs": [
    {
     "data": {
      "text/plain": [
       "<matplotlib.legend.Legend at 0x7f9dcc7d3c10>"
      ]
     },
     "execution_count": 43,
     "metadata": {},
     "output_type": "execute_result"
    },
    {
     "data": {
      "image/png": "[encoded data removed]",
      "text/plain": [
       "<Figure size 432x288 with 1 Axes>"
      ]
     },
     "metadata": {
      "needs_background": "light"
     },
     "output_type": "display_data"
    }
   ],
   "source": [
    "sns.lineplot(x=np.arange(3200), y=bf_post_no_var_sd[:, 5], label=\"Static\").set(title='100 simulations no variance')\n",
    "sns.lineplot(x=np.arange(3200), y=bf_post_low_var_sd[:, 5], label=\"Fixed low variance\")\n",
    "sns.lineplot(x=np.arange(3200), y=bf_post_high_var_sd[:, 5], label=\"Fixed high variance\")\n",
    "sns.lineplot(x=np.arange(3200), y=bf_post_dynamic_dm_sd[:, 5], label=\"Dynamic\")\n",
    "sns.despine()\n",
    "plt.legend(loc='center', bbox_to_anchor=(0.5, -0.2), fancybox=False, shadow=False, ncol=4)"
   ]
  },
  {
   "cell_type": "code",
   "execution_count": 89,
   "metadata": {},
   "outputs": [
    {
     "data": {
      "text/plain": [
       "(500, 3200, 2)"
      ]
     },
     "execution_count": 89,
     "metadata": {},
     "output_type": "execute_result"
    }
   ],
   "source": [
    "# simulated data with fixed high variance parameters\n",
    "BATCH_SIZE = 500\n",
    "prior_draws = dynamic_prior(BATCH_SIZE, fixed_var=0.1)\n",
    "context = context_gen(BATCH_SIZE, N_OBS)\n",
    "sim_data, theta_d, _ = dynamic_batch_simulator(prior_draws, context)\n",
    "sim_data.shape"
   ]
  },
  {
   "cell_type": "code",
   "execution_count": 90,
   "metadata": {},
   "outputs": [
    {
     "data": {
      "text/plain": [
       "(500, 3200, 5)"
      ]
     },
     "execution_count": 90,
     "metadata": {},
     "output_type": "execute_result"
    }
   ],
   "source": [
    "# prepare data for inference\n",
    "rt = sim_data[:, :, 0]\n",
    "context = sim_data[:, :, 1]\n",
    "context = to_categorical(context)\n",
    "x_nn = np.concatenate((rt[:, :, np.newaxis], context), axis=-1)\n",
    "x_nn.shape"
   ]
  },
  {
   "cell_type": "code",
   "execution_count": 91,
   "metadata": {},
   "outputs": [],
   "source": [
    "# bf_post_high_var, _ = network_high_var(x_nn)\n",
    "bf_post_dynamic_dm, _ = network_dynamic_dm(x_nn)"
   ]
  },
  {
   "cell_type": "code",
   "execution_count": 95,
   "metadata": {},
   "outputs": [
    {
     "ename": "",
     "evalue": "",
     "output_type": "error",
     "traceback": [
      "\u001b[1;31mCanceled future for execute_request message before replies were done"
     ]
    },
    {
     "ename": "",
     "evalue": "",
     "output_type": "error",
     "traceback": [
      "\u001b[1;31mThe Kernel crashed while executing code in the the current cell or a previous cell. Please review the code in the cell(s) to identify a possible cause of the failure. Click <a href='https://aka.ms/vscodeJupyterKernelCrash'>here</a> for more info. View Jupyter <a href='command:jupyter.viewOutput'>log</a> for further details."
     ]
    }
   ],
   "source": [
    "# bf_post_high_var_mean = np.array(bf_post_high_var.mean())\n",
    "# bf_post_high_var_mean.shape\n",
    "bf_post_dynamic_dm_mean = np.array(bf_post_dynamic_dm.mean())\n",
    "bf_post_dynamic_dm_mean.shape"
   ]
  },
  {
   "cell_type": "code",
   "execution_count": 1,
   "metadata": {},
   "outputs": [
    {
     "ename": "NameError",
     "evalue": "name 'theta_d' is not defined",
     "output_type": "error",
     "traceback": [
      "\u001b[0;31m---------------------------------------------------------------------------\u001b[0m",
      "\u001b[0;31mNameError\u001b[0m                                 Traceback (most recent call last)",
      "\u001b[0;32m/var/folders/cd/lsff0c7s4fn3mb649wt67m200000gn/T/ipykernel_17731/3303229040.py\u001b[0m in \u001b[0;36m<module>\u001b[0;34m\u001b[0m\n\u001b[1;32m      1\u001b[0m \u001b[0mwhich\u001b[0m \u001b[0;34m=\u001b[0m \u001b[0;36m0\u001b[0m\u001b[0;34m\u001b[0m\u001b[0;34m\u001b[0m\u001b[0m\n\u001b[1;32m      2\u001b[0m \u001b[0mtime\u001b[0m \u001b[0;34m=\u001b[0m \u001b[0;36m100\u001b[0m\u001b[0;34m\u001b[0m\u001b[0;34m\u001b[0m\u001b[0m\n\u001b[0;32m----> 3\u001b[0;31m \u001b[0mtrue_param\u001b[0m \u001b[0;34m=\u001b[0m \u001b[0mtheta_d\u001b[0m\u001b[0;34m[\u001b[0m\u001b[0;34m:\u001b[0m\u001b[0;34m,\u001b[0m \u001b[0mtime\u001b[0m\u001b[0;34m,\u001b[0m \u001b[0;34m:\u001b[0m\u001b[0;34m]\u001b[0m\u001b[0;34m\u001b[0m\u001b[0;34m\u001b[0m\u001b[0m\n\u001b[0m\u001b[1;32m      4\u001b[0m \u001b[0mpred_param\u001b[0m \u001b[0;34m=\u001b[0m \u001b[0mbf_post_dynamic_dm_mean\u001b[0m\u001b[0;34m[\u001b[0m\u001b[0;34m:\u001b[0m\u001b[0;34m,\u001b[0m \u001b[0mtime\u001b[0m\u001b[0;34m,\u001b[0m \u001b[0;34m:\u001b[0m\u001b[0;34m]\u001b[0m\u001b[0;34m\u001b[0m\u001b[0;34m\u001b[0m\u001b[0m\n\u001b[1;32m      5\u001b[0m \u001b[0;34m\u001b[0m\u001b[0m\n",
      "\u001b[0;31mNameError\u001b[0m: name 'theta_d' is not defined"
     ]
    }
   ],
   "source": [
    "which = 0\n",
    "time = 100\n",
    "true_param = theta_d[:, time, :]\n",
    "pred_param = bf_post_dynamic_dm_mean[:, time, :]\n",
    "\n",
    "PARAM_LABELS = [r'$v_1$', r'$v_2$', r'$v_3$', r'$v_3$', r'$a$', r'$\\tau$']\n",
    "# Recovery plot\n",
    "true_vs_estimated(theta_true=true_param, theta_est=pred_param,\n",
    "                  param_names=PARAM_LABELS, dpi=300, figsize=(20,4),font_size=16)"
   ]
  },
  {
   "cell_type": "code",
   "execution_count": null,
   "metadata": {},
   "outputs": [],
   "source": [
    "bf_post_high_var_sd = np.array(bf_post_high_var[0].stddev()).mean(axis=0)\n",
    "# bf_post_high_var_sd_sd   = np.array(bf_post_high_var.stddev()).std(axis=0)\n",
    "\n",
    "sns.lineplot(np.arange(3200), bf_post_high_var_sd[:, 0])"
   ]
  },
  {
   "cell_type": "code",
   "execution_count": null,
   "metadata": {},
   "outputs": [],
   "source": [
    "bf_post_dynamic_dm_sd = np.array(bf_post_dynamic_dm[0].stddev()).mean(axis=0)\n",
    "# bf_post_high_var_sd_sd   = np.array(bf_post_high_var.stddev()).std(axis=0)\n",
    "\n",
    "sns.lineplot(np.arange(3200), bf_post_dynamic_dm_sd[:, 0])"
   ]
  },
  {
   "cell_type": "code",
   "execution_count": null,
   "metadata": {},
   "outputs": [],
   "source": [
    "plot_post_sd(stan_post_samples, bf_post_no_var, bf_post_low_var[0], bf_post_high_var[0], 800, 0)"
   ]
  },
  {
   "cell_type": "code",
   "execution_count": null,
   "metadata": {},
   "outputs": [],
   "source": [
    "plot_post_mean_error(stan_post_samples, bf_post_no_var, bf_post_low_var[0], bf_post_high_var[0], 0)"
   ]
  },
  {
   "cell_type": "markdown",
   "metadata": {},
   "source": [
    "### Low variance"
   ]
  },
  {
   "cell_type": "code",
   "execution_count": null,
   "metadata": {},
   "outputs": [],
   "source": [
    "# load simulated data and stan fits\n",
    "sim = pd.read_pickle('sim_data_ablation/sim_data_ablation_3200_lowVar_2.pkl')\n",
    "rt = sim['rt']\n",
    "context = sim['context']\n",
    "sim_data = np.concatenate((rt[:, :, np.newaxis], context), axis=-1)\n",
    "theta_d = sim['theta_d']\n",
    "stan_post_samples = sim['stan_post_samples']"
   ]
  },
  {
   "cell_type": "code",
   "execution_count": null,
   "metadata": {},
   "outputs": [],
   "source": [
    "# amortized inference\n",
    "bf_post_no_var   = network_no_var(sim_data)\n",
    "bf_post_low_var  = network_low_var(sim_data)\n",
    "bf_post_high_var = network_high_var(sim_data)\n",
    "bf_post_dynamic_dm = network_dynamic_dm(sim_data)"
   ]
  },
  {
   "cell_type": "code",
   "execution_count": null,
   "metadata": {},
   "outputs": [],
   "source": [
    "plot_post_sd(stan_post_samples, bf_post_no_var, bf_post_low_var[0], bf_post_high_var[0], bf_post_dynamic_dm[0], 3200, 1)"
   ]
  },
  {
   "cell_type": "code",
   "execution_count": null,
   "metadata": {},
   "outputs": [],
   "source": [
    "plot_post_mean_error(stan_post_samples, bf_post_no_var, bf_post_low_var[0], bf_post_high_var[0], bf_post_dynamic_dm[0], 1)"
   ]
  },
  {
   "cell_type": "markdown",
   "metadata": {},
   "source": [
    "### High variance"
   ]
  },
  {
   "cell_type": "code",
   "execution_count": null,
   "metadata": {},
   "outputs": [],
   "source": [
    "# load simulated data and stan fits\n",
    "sim = pd.read_pickle('./sim_800_highVar.pkl')\n",
    "rt = sim['rt']\n",
    "context = to_categorical(sim['context'])\n",
    "sim_data = np.concatenate((rt[:, :, np.newaxis], context), axis=-1)\n",
    "true_theta_d = sim['theta_d']\n",
    "stan_post_samples = sim['stan_post_samples']"
   ]
  },
  {
   "cell_type": "code",
   "execution_count": null,
   "metadata": {},
   "outputs": [],
   "source": [
    "# amortized inference\n",
    "bf_post_no_var   = network_no_var(sim_data)\n",
    "bf_post_low_var  = network_low_var(sim_data)\n",
    "bf_post_high_var = network_high_var(sim_data)"
   ]
  },
  {
   "cell_type": "code",
   "execution_count": null,
   "metadata": {},
   "outputs": [],
   "source": [
    "plot_post_sd(stan_post_samples, bf_post_no_var, bf_post_low_var, bf_post_high_var, 800, 2)"
   ]
  },
  {
   "cell_type": "code",
   "execution_count": null,
   "metadata": {},
   "outputs": [],
   "source": [
    "plot_post_mean_error(stan_post_samples, bf_post_no_var, bf_post_low_var, bf_post_high_var, 2)"
   ]
  }
 ],
 "metadata": {
  "interpreter": {
   "hash": "e5c1a6784774cb00c4ca0a99fd750e2e4caf18aa135f6d49553516d8651234b4"
  },
  "kernelspec": {
   "display_name": "Python 3.9.7 ('cognitiveModeling')",
   "language": "python",
   "name": "python3"
  },
  "language_info": {
   "codemirror_mode": {
    "name": "ipython",
    "version": 3
   },
   "file_extension": ".py",
   "mimetype": "text/x-python",
   "name": "python",
   "nbconvert_exporter": "python",
   "pygments_lexer": "ipython3",
   "version": "3.9.7"
  },
  "orig_nbformat": 4
 },
 "nbformat": 4,
 "nbformat_minor": 2
}
