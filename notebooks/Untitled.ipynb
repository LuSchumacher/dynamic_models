{
 "cells": [
  {
   "cell_type": "code",
   "execution_count": 1,
   "id": "db38f111",
   "metadata": {},
   "outputs": [],
   "source": [
    "import numpy as np\n",
    "import matplotlib.pyplot as plt\n",
    "import seaborn as sns\n",
    "import pandas as pd\n",
    "from numba import njit\n",
    "from tqdm.notebook import tqdm"
   ]
  },
  {
   "cell_type": "code",
   "execution_count": 2,
   "id": "dd5fcccd",
   "metadata": {},
   "outputs": [],
   "source": [
    "import tensorflow as tf\n",
    "from tensorflow.keras.layers import LSTM, Dense, GRU\n",
    "from tensorflow.keras.models import Sequential\n",
    "from tensorflow.keras.utils import to_categorical\n",
    "import tensorflow_probability as tfp\n",
    "tfd = tfp.distributions\n",
    "tfpl = tfp.layers\n",
    "import talib"
   ]
  },
  {
   "cell_type": "markdown",
   "id": "d3736b12",
   "metadata": {},
   "source": [
    "## Simulator"
   ]
  },
  {
   "cell_type": "code",
   "execution_count": 16,
   "id": "1e499a0f",
   "metadata": {},
   "outputs": [],
   "source": [
    "def dynamic_prior(batch_size):\n",
    "    \"\"\"\n",
    "    Generates a random draw from the diffusion model prior.\n",
    "    \"\"\"\n",
    "    params = np.random.gamma(5, 0.5, size=(batch_size, 5))\n",
    "    hyper_params = np.random.uniform(0.01, 0.1, size=(batch_size, 5))\n",
    "\n",
    "    return np.c_[params, hyper_params]\n",
    "\n",
    "def context_gen(batch_size, n_obs):\n",
    "    return np.random.randint(0, 2, (batch_size, n_obs)).astype(np.float32)\n",
    "\n",
    "@njit\n",
    "def diffusion_trial(v, a, ndt, zr=0.5, dt=0.001, max_steps=1e4):\n",
    "    \"\"\"Simulates a trial from the diffusion model.\"\"\"\n",
    "\n",
    "    n_steps = 0.\n",
    "    x = a * zr\n",
    "\n",
    "    # Simulate a single DM path\n",
    "    while (x > 0 and x < a and n_steps < max_steps):\n",
    "\n",
    "        # DDM equation\n",
    "        x += v*dt + np.sqrt(dt) * np.random.normal()\n",
    "\n",
    "        # Increment step\n",
    "        n_steps += 1.0\n",
    "\n",
    "    rt = n_steps * dt\n",
    "    return rt + ndt if x > 0. else -rt - ndt\n",
    "\n",
    "# @njit\n",
    "# def dynamic_diffusion_condition(n_obs, v, a, ndt, zr=0.5, dt=0.005, max_steps=1e4):\n",
    "#     \"\"\"Simulates a diffusion process over an entire condition.\"\"\"\n",
    "    \n",
    "    \n",
    "    \n",
    "#     x = np.empty(n_obs)\n",
    "#     for i in range(n_obs):\n",
    "#         x[i] = diffusion_trial(v, a, ndt, zr, dt, max_steps)\n",
    "#     return x\n",
    "\n",
    "\n",
    "# @njit\n",
    "def dynamic_diffusion_process(prior_samples, n_obs, dt=0.001, s=1.0, max_iter=1e4):\n",
    "    \"\"\"\n",
    "    Performs one run of a dynamic diffusion model process.\n",
    "    \"\"\"\n",
    "    \n",
    "    params, params_stds = np.split(prior_samples, 2, axis=-1)\n",
    "    params_t = params\n",
    "    \n",
    "    params_t_array = np.zeros((n_obs, params.shape[0]))\n",
    "    \n",
    "    rt = np.zeros(n_obs)\n",
    "    exp_condition = 0\n",
    "    \n",
    "    # Iterate over number of trials\n",
    "    for t in range(n_obs):\n",
    "        \n",
    "        # switch condition\n",
    "        if t == (n_obs / 2):\n",
    "            exp_condition = 1\n",
    "        \n",
    "        # Run diffusion process\n",
    "        rt[t] = diffusion_trial(params_t[exp_condition], params_t[exp_condition +2], params_t[4])\n",
    "        \n",
    "        # Store before transition\n",
    "        params_t_array[t] = params_t\n",
    "        \n",
    "        # Transition and ensure non-negative parameters\n",
    "        params_t = params_t + params_stds * np.random.randn(params.shape[0])\n",
    "        \n",
    "        # Constraints\n",
    "        params_t[0] = min(max(params_t[0], 0.0), 8)\n",
    "        params_t[1] = min(max(params_t[1], 0.0), 8)\n",
    "        params_t[2] = min(max(params_t[2], 0.0), 6)\n",
    "        params_t[3] = min(max(params_t[3], 0.0), 6)\n",
    "        params_t[4] = min(max(params_t[3], 0.0), 4)\n",
    "        \n",
    "    return np.atleast_2d(rts_v).T, params_t_array, params_stds"
   ]
  },
  {
   "cell_type": "code",
   "execution_count": 22,
   "id": "5ce6f92b",
   "metadata": {},
   "outputs": [
    {
     "data": {
      "text/plain": [
       "(240,)"
      ]
     },
     "execution_count": 22,
     "metadata": {},
     "output_type": "execute_result"
    }
   ],
   "source": [
    "dynamic_diffusion_process(dynamic_prior(1)[0], 120)[0].shape"
   ]
  }
 ],
 "metadata": {
  "kernelspec": {
   "display_name": "Python 3 (ipykernel)",
   "language": "python",
   "name": "python3"
  },
  "language_info": {
   "codemirror_mode": {
    "name": "ipython",
    "version": 3
   },
   "file_extension": ".py",
   "mimetype": "text/x-python",
   "name": "python",
   "nbconvert_exporter": "python",
   "pygments_lexer": "ipython3",
   "version": "3.9.7"
  }
 },
 "nbformat": 4,
 "nbformat_minor": 5
}
